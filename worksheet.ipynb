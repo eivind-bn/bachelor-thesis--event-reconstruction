{
 "cells": [
  {
   "cell_type": "code",
   "execution_count": 2,
   "outputs": [],
   "source": [
    "import pandas as pd\n",
    "from metavision_core.event_io import EventsIterator\n",
    "import numpy as np\n",
    "\n",
    "from core.dsl.transformer.frequency_filter import FrequencyFilter\n",
    "from core.event.subjects import PIPELINE_READY\n",
    "import cv2\n",
    "import os\n",
    "\n",
    "# Modules to read, process and output events.\n",
    "from core.dsl.transformer.mp4_to_sliding_events import Mp4ToSlidingEvents\n",
    "from core.dsl.transformer.mp4_to_stacking_events import Mp4ToStackingEvents\n",
    "from core.dsl.transformer.mp4_to_singular_events import Mp4ToSingularEvents\n",
    "from core.dsl.transformer.frames_by_event_batches import EventBatchToFrames\n",
    "from core.dsl.sink.event_writer import EventWriter\n",
    "from core.dsl.transformer.frames_by_timestamps import FramesByTimestamps\n",
    "from core.dsl.transformer.event_to_intensity_predictor import AsymptoticIntensityPredictor\n",
    "from core.dsl.transformer.batch_throughput_limiter import BSync\n",
    "from core.dsl.source.mp4_reader import Mp4Reader\n",
    "from core.dsl.sink.window import Window\n",
    "from core.dsl.source.events_reader import EventReader\n",
    "from core.dsl.sink.mp4_writer import Mp4Writer\n",
    "from core.dsl.transformer.mp4_to_greyscale import MP4ToGreyscale\n",
    "from core.dsl.source.events_reader import EventReader\n",
    "from core.dsl.transformer.naive_event_integrator import SpanningIntensityPredictor\n",
    "\n",
    "\n",
    "def load_event_samples(directory, filetypes):\n",
    "    absolute_path = os.path.abspath(directory)\n",
    "    files = os.listdir(directory)\n",
    "    return {file[:-4]: f'{absolute_path}/{file}' for file in files if file[-4:] in filetypes}\n",
    "\n",
    "# Authentic events from event cameras.\n",
    "event = load_event_samples('samples/events/', ['.raw', '.dat'])\n",
    "\n",
    "# Conventional frame based video not derived from event cameras.\n",
    "mp4 = load_event_samples('samples/mp4/', ['.mp4'])\n",
    "\n",
    "# Conventional video deconstructed to synthetic events.\n",
    "decon = load_event_samples('samples/decon/', ['.raw', '.dat'])\n",
    "\n",
    "# Events reconstructed to regular video.\n",
    "recon = load_event_samples('samples/recon/', ['.mp4'])\n",
    "\n",
    "\n",
    "\n",
    "\n",
    "# mp4_in = Mp4Reader(mp4['formula1'])\n",
    "# event_in = EventReader(event['spinner'], delta_t=1e4, max_duration=1e5)\n",
    "#\n",
    "# filter = FrequencyFilter(low_bound=0.0, high_bound=0.4)\n",
    "# batch_frame = EventBatchToFrames()\n",
    "# deconstructor = Mp4ToSingularEvents(threshold=0.1)\n",
    "# reconstructor = AsymptoticIntensityPredictor(gaussian_filter_sigma=0.3, intensity_decay=0.001)\n",
    "# window = Window('Mp4 roundtrip integrity test')\n",
    "# recorder = Mp4Writer('samples/recon/driving-sample.mp4', fps=30)\n",
    "#\n",
    "# import plotly.express as px\n",
    "# events = []\n",
    "#\n",
    "# event_in >> (lambda d,**k: events.append(d)) >> filter >> batch_frame >> window\n",
    "#\n",
    "# df = pd.DataFrame(columns=['x', 'y', 'p', 't'])\n",
    "# for e in events:\n",
    "#     e['t'] = e['t'][0]\n",
    "#     df = pd.concat([df, pd.DataFrame(e[-10000:], columns=['x', 'y', 'p', 't'])])\n",
    "#\n",
    "#\n",
    "# df['t'] = df['t'].astype(np.float64)\n",
    "# fig = px.scatter_3d(df, x='x', y='t', z='y', color='t', template='plotly_white')\n",
    "# fig.update_traces(marker_size= 5)\n",
    "# fig.write_html('snapshots/plot-frame.html')"
   ],
   "metadata": {
    "collapsed": false,
    "pycharm": {
     "name": "#%%\n"
    }
   }
  },
  {
   "cell_type": "code",
   "execution_count": 3,
   "outputs": [
    {
     "name": "stdout",
     "output_type": "stream",
     "text": [
      "202\n"
     ]
    }
   ],
   "source": [
    "import pandas as pd\n",
    "from metavision_core.event_io import EventsIterator\n",
    "import numpy as np\n",
    "\n",
    "from core.dsl.transformer.frequency_filter import FrequencyFilter\n",
    "from core.event.subjects import PIPELINE_READY, KEYPRESS\n",
    "import cv2\n",
    "import os\n",
    "\n",
    "# Modules to read, process and output events.\n",
    "from core.dsl.transformer.mp4_to_sliding_events import Mp4ToSlidingEvents\n",
    "from core.dsl.transformer.mp4_to_stacking_events import Mp4ToStackingEvents\n",
    "from core.dsl.transformer.mp4_to_singular_events import Mp4ToSingularEvents\n",
    "from core.dsl.transformer.frames_by_event_batches import EventBatchToFrames\n",
    "from core.dsl.sink.event_writer import EventWriter\n",
    "from core.dsl.transformer.frames_by_timestamps import FramesByTimestamps\n",
    "from core.dsl.transformer.event_to_intensity_predictor import AsymptoticIntensityPredictor\n",
    "from core.dsl.transformer.batch_throughput_limiter import BSync\n",
    "from core.dsl.source.mp4_reader import Mp4Reader\n",
    "from core.dsl.sink.window import Window\n",
    "from core.dsl.source.events_reader import EventReader\n",
    "from core.dsl.sink.mp4_writer import Mp4Writer\n",
    "from core.dsl.transformer.mp4_to_greyscale import MP4ToGreyscale\n",
    "from core.dsl.source.events_reader import EventReader\n",
    "from core.dsl.transformer.naive_event_integrator import SpanningIntensityPredictor\n",
    "\n",
    "\n",
    "def load_event_samples(directory, filetypes):\n",
    "    absolute_path = os.path.abspath(directory)\n",
    "    files = os.listdir(directory)\n",
    "    return {file[:-4]: f'{absolute_path}/{file}' for file in files if file[-4:] in filetypes}\n",
    "\n",
    "# Authentic events from event cameras.\n",
    "event = load_event_samples('samples/events/', ['.raw', '.dat'])\n",
    "\n",
    "# Conventional frame based video not derived from event cameras.\n",
    "mp4 = load_event_samples('samples/mp4/', ['.mp4'])\n",
    "\n",
    "# Conventional video deconstructed to synthetic events.\n",
    "decon = load_event_samples('samples/decon/', ['.raw', '.dat'])\n",
    "\n",
    "# Events reconstructed to regular video.\n",
    "recon = load_event_samples('samples/recon/', ['.mp4'])\n",
    "\n",
    "\n",
    "\n",
    "from core.dsl.source.events_reader import EventReader\n",
    "\n",
    "event_in = EventReader(decon['formula1'], delta_t=int(1e5/(202/81)))\n",
    "\n",
    "recorder = Mp4Writer('samples/recon/back6.mp4', fps=30)\n",
    "\n",
    "reconstructor = AsymptoticIntensityPredictor(\n",
    "    gaussian_filter_sigma=0.05,\n",
    "    intensity_decay=0.0,\n",
    "    intensity_impedance=1.0,\n",
    ")\n",
    "\n",
    "deconstructor = Mp4ToSingularEvents(threshold=0.07)\n",
    "\n",
    "sync = BSync(batch_per_second=24)\n",
    "\n",
    "batch_frame_generator = EventBatchToFrames()\n",
    "\n",
    "mp4_out = Mp4Writer('samples/recon/formula1.mp4', fps=25)\n",
    "window = Window('Mp4 roundtrip integrity test')\n",
    "def save(**kwargs):\n",
    "    print(kwargs)\n",
    "\n",
    "\n",
    "\n",
    "\n",
    "def run():\n",
    "    i = 0\n",
    "    def do(data, **kwargs):\n",
    "        nonlocal i\n",
    "        i += 1\n",
    "        if i == 100:\n",
    "            cv2.imwrite(f'snapshots/snap{i}.png', data)\n",
    "        if i > 100:\n",
    "            raise Exception\n",
    "\n",
    "    def imgsave(image, **kwargs):\n",
    "        nonlocal i\n",
    "        if i == 100:\n",
    "            cv2.imwrite(f'snapshots/snap-mp4{i}.png', image)\n",
    "\n",
    "    event_in >> reconstructor >> mp4_out\n",
    "\n",
    "run()\n",
    "mp4_in = Mp4Reader('samples/recon/formula1.mp4')\n",
    "print(mp4_in.frame_cnt)"
   ],
   "metadata": {
    "collapsed": false,
    "pycharm": {
     "name": "#%%\n"
    }
   }
  },
  {
   "cell_type": "code",
   "execution_count": 25,
   "outputs": [
    {
     "name": "stdout",
     "output_type": "stream",
     "text": [
      "464\n"
     ]
    }
   ],
   "source": [
    "mp4_in = Mp4Reader('samples/recon/formula1.mp4')\n",
    "print(mp4_in.frame_cnt)"
   ],
   "metadata": {
    "collapsed": false,
    "pycharm": {
     "name": "#%%\n"
    }
   }
  },
  {
   "cell_type": "code",
   "execution_count": null,
   "outputs": [],
   "source": [],
   "metadata": {
    "collapsed": false,
    "pycharm": {
     "name": "#%%\n"
    }
   }
  }
 ],
 "metadata": {
  "kernelspec": {
   "display_name": "Python 3",
   "language": "python",
   "name": "python3"
  },
  "language_info": {
   "codemirror_mode": {
    "name": "ipython",
    "version": 2
   },
   "file_extension": ".py",
   "mimetype": "text/x-python",
   "name": "python",
   "nbconvert_exporter": "python",
   "pygments_lexer": "ipython2",
   "version": "2.7.6"
  }
 },
 "nbformat": 4,
 "nbformat_minor": 0
}