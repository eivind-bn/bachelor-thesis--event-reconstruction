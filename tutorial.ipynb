{
 "cells": [
  {
   "cell_type": "code",
   "execution_count": 8,
   "outputs": [],
   "source": [
    "import os\n",
    "\n",
    "'''\n",
    "Modules to read, process and output events.\n",
    "'''\n",
    "from core.dsl.transformer.mp4_to_sliding_events import Mp4ToSlidingEvents\n",
    "from core.dsl.transformer.mp4_to_stacking_events import Mp4ToStackingEvents\n",
    "from core.dsl.transformer.mp4_to_singular_events import Mp4ToSingularEvents\n",
    "from core.dsl.transformer.frames_by_event_batches import EventBatchToFrames\n",
    "from core.dsl.sink.event_writer import EventWriter\n",
    "from core.dsl.transformer.frames_by_timestamps import FramesByTimestamps\n",
    "from core.dsl.transformer.event_to_intensity_predictor import AsymptoticIntensityPredictor\n",
    "from core.dsl.transformer.batch_throughput_limiter import BSync\n",
    "from core.dsl.source.mp4_reader import Mp4Reader\n",
    "from core.dsl.sink.window import Window\n",
    "from core.dsl.source.events_reader import EventReader\n",
    "from core.dsl.sink.mp4_writer import Mp4Writer\n",
    "from core.dsl.transformer.mp4_to_greyscale import MP4ToGreyscale"
   ],
   "metadata": {
    "collapsed": false,
    "pycharm": {
     "name": "#%%\n"
    }
   }
  },
  {
   "cell_type": "markdown",
   "source": [
    "Metavision SDK utilizes raw/dat files to read events. Let's begin by downloading samples from their website."
   ],
   "metadata": {
    "collapsed": false,
    "pycharm": {
     "name": "#%% md\n"
    }
   }
  },
  {
   "cell_type": "code",
   "execution_count": 9,
   "metadata": {
    "pycharm": {
     "name": "#%%\n"
    }
   },
   "outputs": [],
   "source": [
    "import metavision_core.utils.samples as samples\n",
    "samples.get_all_samples('samples/events/')\n",
    "\n",
    "def load_event_samples(directory, filetypes):\n",
    "    absolute_path = os.path.abspath(directory)\n",
    "    files = os.listdir(directory)\n",
    "    return {file[:-4]: f'{absolute_path}/{file}' for file in files if file[-4:] in filetypes}\n",
    "\n",
    "# Authentic events from event cameras.\n",
    "event = load_event_samples('samples/events/', ['.raw', '.dat'])\n",
    "\n",
    "# Conventional frame based video not derived from event cameras.\n",
    "mp4 = load_event_samples('samples/mp4/', ['.mp4'])\n",
    "\n",
    "# Conventional video deconstructed to synthetic events.\n",
    "decon = load_event_samples('samples/decon/', ['.raw', '.dat'])\n",
    "\n",
    "# Events reconstructed to regular video.\n",
    "recon = load_event_samples('samples/recon/', ['.mp4'])"
   ]
  },
  {
   "cell_type": "markdown",
   "source": [],
   "metadata": {
    "collapsed": false,
    "pycharm": {
     "name": "#%% md\n"
    }
   }
  },
  {
   "cell_type": "markdown",
   "source": [
    "Let's start with something simple, like streaming a regular video."
   ],
   "metadata": {
    "collapsed": false,
    "pycharm": {
     "name": "#%% md\n"
    }
   }
  },
  {
   "cell_type": "code",
   "execution_count": 3,
   "outputs": [
    {
     "data": {
      "text/plain": "<core.dsl.sink.window.Window at 0x131e97218b0>"
     },
     "execution_count": 3,
     "metadata": {},
     "output_type": "execute_result"
    }
   ],
   "source": [
    "# This is the module that will feed the video stream from the filesystem.\n",
    "mp4_in = Mp4Reader(mp4['formula1'])\n",
    "\n",
    "# This window will consume whatever stream of images you provide it, and display it in a separate window.\n",
    "window = Window('formula1 mp4-stream')\n",
    "\n",
    "# Now we combine the input and output module with >> operator.\n",
    "# Note that both modules must have the same transfer datatype to be compatible, i.e (mp4 -> mp4) or (event -> event).\n",
    "# If the datatype were different, such as (event -> mp4) or (mp4 -> event), converters would have to be placed as well.\n",
    "mp4_in >> window"
   ],
   "metadata": {
    "collapsed": false,
    "pycharm": {
     "name": "#%%\n"
    }
   }
  },
  {
   "cell_type": "markdown",
   "source": [
    "Video-stream were probably going a bit fast, right? Let's try to synchronize it with the system-clock."
   ],
   "metadata": {
    "collapsed": false,
    "pycharm": {
     "name": "#%% md\n"
    }
   }
  },
  {
   "cell_type": "code",
   "execution_count": 7,
   "outputs": [
    {
     "data": {
      "text/plain": "<core.dsl.sink.window.Window at 0x131e9775f70>"
     },
     "execution_count": 7,
     "metadata": {},
     "output_type": "execute_result"
    }
   ],
   "source": [
    "# The modules are mutable. Never reuse old instances.\n",
    "mp4_in = Mp4Reader(mp4['formula1'])\n",
    "window = Window('formula1 mp4-stream')\n",
    "\n",
    "# This module treat events and frames equal. It simply restricts the number of invocations per second.\n",
    "# You can use this module for both event and frame datatypes. Note that this module is blocking.\n",
    "frame_sync = BSync(batch_per_second=24.0)\n",
    "\n",
    "mp4_in >> frame_sync >> window"
   ],
   "metadata": {
    "collapsed": false,
    "pycharm": {
     "name": "#%%\n"
    }
   }
  },
  {
   "cell_type": "markdown",
   "source": [
    "Now lets render raw events instead to better grasp the difference."
   ],
   "metadata": {
    "collapsed": false,
    "pycharm": {
     "name": "#%% md\n"
    }
   }
  },
  {
   "cell_type": "code",
   "execution_count": 12,
   "metadata": {
    "pycharm": {
     "name": "#%%\n"
    }
   },
   "outputs": [
    {
     "data": {
      "text/plain": "<core.dsl.sink.window.Window at 0x13193aaf1f0>"
     },
     "execution_count": 12,
     "metadata": {},
     "output_type": "execute_result"
    }
   ],
   "source": [
    "# We use a dedicated event reader for this purpose.\n",
    "# Each individual event has a timestamp denoting when it was created.\n",
    "# Delta_t denotes the timespan for each event batch.\n",
    "event_in = EventReader(event['driving_sample'], delta_t=1e4)\n",
    "\n",
    "# Simply render events from each batch to a frame. This frame generator is highly influenced by delta_t.\n",
    "# Increasing it will yield more events per frame.\n",
    "batch_frame_generator = EventBatchToFrames()\n",
    "\n",
    "# No explaining needed.\n",
    "window = Window('Raw event stream')\n",
    "\n",
    "# Events are read, then converted to frame, lastly the frames are feed to the window.\n",
    "# events -> frames -> void\n",
    "event_in >> batch_frame_generator >> window"
   ]
  },
  {
   "cell_type": "markdown",
   "source": [
    "We can also synchronize events as we previously did with frames."
   ],
   "metadata": {
    "collapsed": false,
    "pycharm": {
     "name": "#%% md\n"
    }
   }
  },
  {
   "cell_type": "code",
   "execution_count": 18,
   "outputs": [
    {
     "data": {
      "text/plain": "<core.dsl.sink.window.Window at 0x1319365b1f0>"
     },
     "execution_count": 18,
     "metadata": {},
     "output_type": "execute_result"
    }
   ],
   "source": [
    "event_in = EventReader(event['driving_sample'], delta_t=1e4)\n",
    "batch_frame_generator = EventBatchToFrames()\n",
    "window = Window('Raw event stream')\n",
    "\n",
    "# Lets use Bsync (Batch synchronizer)\n",
    "frame_sync = BSync(batch_per_second=30.0)\n",
    "\n",
    "# Events are read, then converted to frame, then synchronized, lastly the frames are feed to the window.\n",
    "# events -> frames -> frames -> void\n",
    "event_in >> batch_frame_generator >> frame_sync >> window"
   ],
   "metadata": {
    "collapsed": false,
    "pycharm": {
     "name": "#%%\n"
    }
   }
  },
  {
   "cell_type": "markdown",
   "source": [
    "Now instead of generating frames based on batches, let's use another approach, namely the timestamps on the events itself."
   ],
   "metadata": {
    "collapsed": false,
    "pycharm": {
     "name": "#%% md\n"
    }
   }
  },
  {
   "cell_type": "code",
   "execution_count": 25,
   "outputs": [
    {
     "data": {
      "text/plain": "<core.dsl.sink.window.Window at 0x1319a9c3160>"
     },
     "execution_count": 25,
     "metadata": {},
     "output_type": "execute_result"
    }
   ],
   "source": [
    "event_in = EventReader(event['driving_sample'], delta_t=1e2)\n",
    "window = Window('Raw event stream')\n",
    "\n",
    "# Not influenced by batch sizes and adjustments to delta_t. Create frames based on timestamps instead.\n",
    "# Note that adjusting fps will only influence the video speed, not smoothness.\n",
    "# This is intended behaviour as the algorithm correlates time with the timestamps, not real-time.\n",
    "timestamp_frame_generator = FramesByTimestamps(fps=200)\n",
    "\n",
    "event_in >> timestamp_frame_generator >> window"
   ],
   "metadata": {
    "collapsed": false,
    "pycharm": {
     "name": "#%%\n"
    }
   }
  },
  {
   "cell_type": "markdown",
   "source": [
    "To account for real-time playback problem in the cell above, we incorporate a syncing module like previously."
   ],
   "metadata": {
    "collapsed": false,
    "pycharm": {
     "name": "#%% md\n"
    }
   }
  },
  {
   "cell_type": "code",
   "execution_count": 29,
   "outputs": [
    {
     "data": {
      "text/plain": "<core.dsl.sink.window.Window at 0x1319ad4e9a0>"
     },
     "execution_count": 29,
     "metadata": {},
     "output_type": "execute_result"
    }
   ],
   "source": [
    "event_in = EventReader(event['driving_sample'], delta_t=1e6)\n",
    "window = Window('Raw event stream')\n",
    "timestamp_frame_generator = FramesByTimestamps(fps=30)\n",
    "\n",
    "# Accounting for real-time playback.\n",
    "# Note: might not yield correct result due to lagging.\n",
    "frame_sync = BSync(batch_per_second=30.0)\n",
    "\n",
    "event_in >> timestamp_frame_generator >> frame_sync >> window"
   ],
   "metadata": {
    "collapsed": false,
    "pycharm": {
     "name": "#%%\n"
    }
   }
  },
  {
   "cell_type": "code",
   "execution_count": null,
   "outputs": [],
   "source": [],
   "metadata": {
    "collapsed": false,
    "pycharm": {
     "name": "#%%\n"
    }
   }
  }
 ],
 "metadata": {
  "kernelspec": {
   "display_name": "Python 3 (ipykernel)",
   "language": "python",
   "name": "python3"
  },
  "language_info": {
   "codemirror_mode": {
    "name": "ipython",
    "version": 3
   },
   "file_extension": ".py",
   "mimetype": "text/x-python",
   "name": "python",
   "nbconvert_exporter": "python",
   "pygments_lexer": "ipython3",
   "version": "3.8.10"
  }
 },
 "nbformat": 4,
 "nbformat_minor": 1
}