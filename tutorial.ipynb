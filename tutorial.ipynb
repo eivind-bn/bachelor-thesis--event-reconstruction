{
 "cells": [
  {
   "cell_type": "code",
   "execution_count": 8,
   "outputs": [],
   "source": [
    "import os\n",
    "\n",
    "'''\n",
    "Modules to read, process and output events.\n",
    "'''\n",
    "from core.dsl.transformer.mp4_to_sliding_events import Mp4ToSlidingEvents\n",
    "from core.dsl.transformer.mp4_to_stacking_events import Mp4ToStackingEvents\n",
    "from core.dsl.transformer.mp4_to_singular_events import Mp4ToSingularEvents\n",
    "from core.dsl.transformer.frames_by_event_batches import EventBatchToFrames\n",
    "from core.dsl.sink.event_writer import EventWriter\n",
    "from core.dsl.transformer.frames_by_timestamps import FramesByTimestamps\n",
    "from core.dsl.transformer.event_to_intensity_predictor import AsymptoticIntensityPredictor\n",
    "from core.dsl.transformer.batch_throughput_limiter import BSync\n",
    "from core.dsl.source.mp4_reader import Mp4Reader\n",
    "from core.dsl.sink.window import Window\n",
    "from core.dsl.source.events_reader import EventReader\n",
    "from core.dsl.sink.mp4_writer import Mp4Writer\n",
    "from core.dsl.transformer.mp4_to_greyscale import MP4ToGreyscale"
   ],
   "metadata": {
    "collapsed": false,
    "pycharm": {
     "name": "#%%\n"
    }
   }
  },
  {
   "cell_type": "markdown",
   "source": [
    "Metavision SDK utilizes raw/dat files to read events. Let's begin by downloading samples from their website."
   ],
   "metadata": {
    "collapsed": false,
    "pycharm": {
     "name": "#%% md\n"
    }
   }
  },
  {
   "cell_type": "code",
   "execution_count": 9,
   "metadata": {
    "pycharm": {
     "name": "#%%\n"
    }
   },
   "outputs": [],
   "source": [
    "import metavision_core.utils.samples as samples\n",
    "samples.get_all_samples('samples/events/')\n",
    "\n",
    "def load_event_samples(directory, filetypes):\n",
    "    absolute_path = os.path.abspath(directory)\n",
    "    files = os.listdir(directory)\n",
    "    return {file[:-4]: f'{absolute_path}/{file}' for file in files if file[-4:] in filetypes}\n",
    "\n",
    "# Authentic events from event cameras.\n",
    "event = load_event_samples('samples/events/', ['.raw', '.dat'])\n",
    "\n",
    "# Conventional frame based video not derived from event cameras.\n",
    "mp4 = load_event_samples('samples/mp4/', ['.mp4'])\n",
    "\n",
    "# Conventional video deconstructed to synthetic events.\n",
    "decon = load_event_samples('samples/decon/', ['.raw', '.dat'])\n",
    "\n",
    "# Events reconstructed to regular video.\n",
    "recon = load_event_samples('samples/recon/', ['.mp4'])"
   ]
  },
  {
   "cell_type": "markdown",
   "source": [],
   "metadata": {
    "collapsed": false,
    "pycharm": {
     "name": "#%% md\n"
    }
   }
  },
  {
   "cell_type": "markdown",
   "source": [
    "Let's start with something simple, like streaming a regular video."
   ],
   "metadata": {
    "collapsed": false,
    "pycharm": {
     "name": "#%% md\n"
    }
   }
  },
  {
   "cell_type": "code",
   "execution_count": 3,
   "outputs": [
    {
     "data": {
      "text/plain": "<core.dsl.sink.window.Window at 0x131e97218b0>"
     },
     "execution_count": 3,
     "metadata": {},
     "output_type": "execute_result"
    }
   ],
   "source": [
    "# This is the module that will feed the video stream from the filesystem.\n",
    "mp4_in = Mp4Reader(mp4['formula1'])\n",
    "\n",
    "# This window will consume whatever stream of images you provide it, and display it in a separate window.\n",
    "window = Window('formula1 mp4-stream')\n",
    "\n",
    "# Now we combine the input and output module with >> operator.\n",
    "# Note that both modules must have the same transfer datatype to be compatible, i.e (mp4 -> mp4) or (event -> event).\n",
    "# If the datatype were different, such as (event -> mp4) or (mp4 -> event), converters would have to be placed as well.\n",
    "mp4_in >> window"
   ],
   "metadata": {
    "collapsed": false,
    "pycharm": {
     "name": "#%%\n"
    }
   }
  },
  {
   "cell_type": "markdown",
   "source": [
    "Video-stream were probably going a bit fast, right? Let's try to synchronize it with the system-clock."
   ],
   "metadata": {
    "collapsed": false,
    "pycharm": {
     "name": "#%% md\n"
    }
   }
  },
  {
   "cell_type": "code",
   "execution_count": 35,
   "outputs": [
    {
     "data": {
      "text/plain": "<core.dsl.sink.window.Window at 0x13194089160>"
     },
     "execution_count": 35,
     "metadata": {},
     "output_type": "execute_result"
    }
   ],
   "source": [
    "# The modules are mutable. Never reuse old instances.\n",
    "mp4_in = Mp4Reader(mp4['formula1'])\n",
    "window = Window('Synced formula1 mp4-stream')\n",
    "\n",
    "# This module treat events and frames equal. It simply restricts the number of invocations per second.\n",
    "# You can use this module for both event and frame datatypes. Note that this module is blocking.\n",
    "frame_sync = BSync(batch_per_second=24.0)\n",
    "\n",
    "mp4_in >> frame_sync >> window"
   ],
   "metadata": {
    "collapsed": false,
    "pycharm": {
     "name": "#%%\n"
    }
   }
  },
  {
   "cell_type": "markdown",
   "source": [
    "We can also compute the greyscale version in real-time.\n",
    "This will be important during this thesis in order to have a comparable ground-truth to reconstructed data.\n",
    "Only greyscale information will be reconstructed, so there's no sense comparing it with rgb video."
   ],
   "metadata": {
    "collapsed": false,
    "pycharm": {
     "name": "#%% md\n"
    }
   }
  },
  {
   "cell_type": "code",
   "execution_count": 36,
   "outputs": [
    {
     "data": {
      "text/plain": "<core.dsl.sink.window.Window at 0x13193aefbe0>"
     },
     "execution_count": 36,
     "metadata": {},
     "output_type": "execute_result"
    }
   ],
   "source": [
    "mp4_in = Mp4Reader(mp4['formula1'])\n",
    "\n",
    "# Accepts any frame, and outputs greyscale variant calculated by average method.\n",
    "greyscale_gen = MP4ToGreyscale()\n",
    "window = Window('Synced formula1 mp4-stream')\n",
    "\n",
    "mp4_in >> greyscale_gen >> window"
   ],
   "metadata": {
    "collapsed": false,
    "pycharm": {
     "name": "#%%\n"
    }
   }
  },
  {
   "cell_type": "markdown",
   "source": [
    "Now lets render raw events instead to better grasp the difference."
   ],
   "metadata": {
    "collapsed": false,
    "pycharm": {
     "name": "#%% md\n"
    }
   }
  },
  {
   "cell_type": "code",
   "execution_count": 12,
   "metadata": {
    "pycharm": {
     "name": "#%%\n"
    }
   },
   "outputs": [
    {
     "data": {
      "text/plain": "<core.dsl.sink.window.Window at 0x13193aaf1f0>"
     },
     "execution_count": 12,
     "metadata": {},
     "output_type": "execute_result"
    }
   ],
   "source": [
    "# We use a dedicated event reader for this purpose.\n",
    "# Each individual event has a timestamp denoting when it was created.\n",
    "# Delta_t denotes the timespan for each event batch.\n",
    "event_in = EventReader(event['driving_sample'], delta_t=1e4)\n",
    "\n",
    "# Simply render events from each batch to a frame. This frame generator is highly influenced by delta_t.\n",
    "# Increasing it will yield more events per frame.\n",
    "batch_frame_generator = EventBatchToFrames()\n",
    "\n",
    "# No explaining needed.\n",
    "window = Window('Frames from event batches.')\n",
    "\n",
    "# Events are read, then converted to frame, lastly the frames are feed to the window.\n",
    "# events -> frames -> void\n",
    "event_in >> batch_frame_generator >> window"
   ]
  },
  {
   "cell_type": "markdown",
   "source": [
    "We can also synchronize events as we previously did with frames."
   ],
   "metadata": {
    "collapsed": false,
    "pycharm": {
     "name": "#%% md\n"
    }
   }
  },
  {
   "cell_type": "code",
   "execution_count": 18,
   "outputs": [
    {
     "data": {
      "text/plain": "<core.dsl.sink.window.Window at 0x1319365b1f0>"
     },
     "execution_count": 18,
     "metadata": {},
     "output_type": "execute_result"
    }
   ],
   "source": [
    "event_in = EventReader(event['driving_sample'], delta_t=1e4)\n",
    "batch_frame_generator = EventBatchToFrames()\n",
    "window = Window('Synchronized frames from event batches')\n",
    "\n",
    "# Lets use Bsync (Batch synchronizer)\n",
    "frame_sync = BSync(batch_per_second=30.0)\n",
    "\n",
    "# Events are read, then converted to frame, then synchronized, lastly the frames are feed to the window.\n",
    "# events -> frames -> frames -> void\n",
    "event_in >> batch_frame_generator >> frame_sync >> window"
   ],
   "metadata": {
    "collapsed": false,
    "pycharm": {
     "name": "#%%\n"
    }
   }
  },
  {
   "cell_type": "markdown",
   "source": [
    "Now instead of generating frames based on batches, let's use another approach, namely the timestamps on the events itself."
   ],
   "metadata": {
    "collapsed": false,
    "pycharm": {
     "name": "#%% md\n"
    }
   }
  },
  {
   "cell_type": "code",
   "execution_count": 25,
   "outputs": [
    {
     "data": {
      "text/plain": "<core.dsl.sink.window.Window at 0x1319a9c3160>"
     },
     "execution_count": 25,
     "metadata": {},
     "output_type": "execute_result"
    }
   ],
   "source": [
    "event_in = EventReader(event['driving_sample'], delta_t=1e2)\n",
    "window = Window('Raw to frames conversion')\n",
    "\n",
    "# Not influenced by batch sizes and adjustments to delta_t. Create frames based on timestamps instead.\n",
    "# Note that adjusting fps will only influence the video speed, not smoothness.\n",
    "# This is intended behaviour as the algorithm correlates time with the timestamps, not real-time.\n",
    "timestamp_frame_generator = FramesByTimestamps(fps=200)\n",
    "\n",
    "event_in >> timestamp_frame_generator >> window"
   ],
   "metadata": {
    "collapsed": false,
    "pycharm": {
     "name": "#%%\n"
    }
   }
  },
  {
   "cell_type": "markdown",
   "source": [
    "To account for real-time playback problem in the cell above, we incorporate a syncing module like previously."
   ],
   "metadata": {
    "collapsed": false,
    "pycharm": {
     "name": "#%% md\n"
    }
   }
  },
  {
   "cell_type": "code",
   "execution_count": 31,
   "outputs": [
    {
     "data": {
      "text/plain": "<core.dsl.sink.window.Window at 0x1319ad56eb0>"
     },
     "execution_count": 31,
     "metadata": {},
     "output_type": "execute_result"
    }
   ],
   "source": [
    "event_in = EventReader(event['driving_sample'], delta_t=1e6)\n",
    "window = Window('Synced event stream')\n",
    "timestamp_frame_generator = FramesByTimestamps(fps=30)\n",
    "\n",
    "# Accounting for real-time playback.\n",
    "# Note: might not yield correct result due to lagging.\n",
    "frame_sync = BSync(batch_per_second=30.0)\n",
    "\n",
    "event_in >> timestamp_frame_generator >> frame_sync >> window"
   ],
   "metadata": {
    "collapsed": false,
    "pycharm": {
     "name": "#%%\n"
    }
   }
  },
  {
   "cell_type": "markdown",
   "source": [
    "Now lets try to reconstruct event data in real-time. This algorithm counts events consecutively and based on the individual\n",
    "events' polarity, either increase or decrease the greyscale value of its respective pixel position. Due to information loss in event data,\n",
    "artifacts such as ghosting will occur. This model uses gaussian filters and decaying factors to compensate for that. You may need to adjust the individual parameters through trial and error to find an optimal setting."
   ],
   "metadata": {
    "collapsed": false,
    "pycharm": {
     "name": "#%% md\n"
    }
   }
  },
  {
   "cell_type": "code",
   "execution_count": 37,
   "outputs": [
    {
     "data": {
      "text/plain": "<core.dsl.sink.window.Window at 0x1319ad9a670>"
     },
     "execution_count": 37,
     "metadata": {},
     "output_type": "execute_result"
    }
   ],
   "source": [
    "event_in = EventReader(event['driving_sample'], delta_t=1e4)\n",
    "\n",
    "reconstructor = AsymptoticIntensityPredictor(\n",
    "    gaussian_filter_sigma=0.5,\n",
    "    colorspace=255,\n",
    "    colorspace_offset=0,\n",
    "    intensity_decay=0.2,\n",
    "    intensity_impedance=1.0\n",
    ")\n",
    "\n",
    "window = Window('Reconstruction')\n",
    "\n",
    "event_in >> reconstructor >> window"
   ],
   "metadata": {
    "collapsed": false,
    "pycharm": {
     "name": "#%%\n"
    }
   }
  },
  {
   "cell_type": "markdown",
   "source": [
    "Only Authentic events have been visualized so far. Problem with reconstructing authentic event data is that we possess no\n",
    "actual ground-truth (correct data correspondence). Luckily, it's way easier to mimic events from regular pictures than vice-versa.\n",
    "We do this by computing pixel intensity gradients from frame to frame. By doing this, we possess something close to actual real data, but most importantly\n",
    "the actual solution to what a proper reconstruction should look like. Some key differences to keep in mind:\n",
    "\n",
    "* Synthetic events typically have lower temporal resolution.\n",
    "* Lower dynamic range.\n",
    "* Less temporal noise.\n",
    "\n",
    "But having actual intensity information can be argued to outweigh these drawbacks for testing purposes.\n",
    "\n",
    "In the following cell, we will deconstruct an authentic conventional rgb video to 'singular' events. 'singular' is not an acknowledged technical term\n",
    "used to describe events, but we introduced it in this thesis to differentiate it from other deconstruction algorithms that we investigated in this thesis. This deconstruction algorithm is probably the best approximation to how actual events work, while the other 2 are fictionary used to investigate better ways to generate events which may lead to less intensity loss. How 'singular events are generated:\n",
    "\n",
    "1. Using pixel intensity information, count how many threshold has been bypassed.\n",
    "2. Compare it to the count of the previous frame. Regardless of intensity difference between the 2 frames, fire only 1 event. If intensity changed by 2 or more\n",
    "   Only 1 event shall be fired. This 'fire 1 event scheme' is one of several reasons to intensity loss in event cameras.\n",
    "3. Set the new frame as the new state.\n",
    "4. Repeat"
   ],
   "metadata": {
    "collapsed": false,
    "pycharm": {
     "name": "#%% md\n"
    }
   }
  },
  {
   "cell_type": "code",
   "execution_count": 12,
   "outputs": [
    {
     "data": {
      "text/plain": "<core.dsl.sink.window.Window at 0x1c04adc3820>"
     },
     "execution_count": 12,
     "metadata": {},
     "output_type": "execute_result"
    }
   ],
   "source": [
    "mp4_in = Mp4Reader(mp4['formula1'])\n",
    "batch_frame_generator = EventBatchToFrames()\n",
    "window = Window('Deconstruction to singular events.')\n",
    "\n",
    "# The deconstructor producing singular events. You may adjust threshold manually here.\n",
    "# This is not possible with most actual event cameras.\n",
    "deconstructor = Mp4ToSingularEvents(threshold=0.1)\n",
    "\n",
    "# Remember that deconstructor outputs event data.\n",
    "# You must generate frames from them before sending it to the window.\n",
    "# frames -> events -> frames -> void\n",
    "mp4_in >> deconstructor >> batch_frame_generator >> window"
   ],
   "metadata": {
    "collapsed": false,
    "pycharm": {
     "name": "#%%\n"
    }
   }
  },
  {
   "cell_type": "markdown",
   "source": [
    "In the following cell, we demonstrate deconstruction as well, but now we're using 'sliding' events instead.\n",
    "This algorithm woks very similar to the previous one, but have some subtle difference in threshold placement. Note that this algorithm doesn't render events\n",
    "like the prophesee event camera does, but do yield similar result from visual assessment. One benefit of 'sliding' events contra 'singular' events is that compression artefacts from regular videos is less visible. How it works:\n",
    "\n",
    "1. Take a frame and calculate greyscale intensity information. Note no floor-division here.\n",
    "2. Find out which pixel exceeds that pixels current +- a threshold revolving around it. Those that do are an event.\n",
    "3. Register pixel with events as new states, otherwise leave their states as it is.\n",
    "\n",
    "In contrast to singular events algorithms, pixel states are not discrete values."
   ],
   "metadata": {
    "collapsed": false,
    "pycharm": {
     "name": "#%% md\n"
    }
   }
  },
  {
   "cell_type": "code",
   "execution_count": 13,
   "outputs": [
    {
     "data": {
      "text/plain": "<core.dsl.sink.window.Window at 0x1c05ce0b8e0>"
     },
     "execution_count": 13,
     "metadata": {},
     "output_type": "execute_result"
    }
   ],
   "source": [
    "mp4_in = Mp4Reader(mp4['formula1'])\n",
    "batch_frame_generator = EventBatchToFrames()\n",
    "window = Window('Deconstruction to sliding events.')\n",
    "\n",
    "# The deconstructor producing singular events. You may adjust threshold manually here.\n",
    "# This is not possible with most actual event cameras.\n",
    "deconstructor = Mp4ToSlidingEvents(threshold=0.1)\n",
    "\n",
    "# Remember that deconstructor outputs event data.\n",
    "# You must generate frames from them before sending it to the window.\n",
    "# frames -> events -> frames -> void\n",
    "mp4_in >> deconstructor >> batch_frame_generator >> window"
   ],
   "metadata": {
    "collapsed": false,
    "pycharm": {
     "name": "#%%\n"
    }
   }
  },
  {
   "cell_type": "markdown",
   "source": [],
   "metadata": {
    "collapsed": false,
    "pycharm": {
     "name": "#%% md\n"
    }
   }
  },
  {
   "cell_type": "markdown",
   "source": [
    "Lastly, we demonstrate 'stacking' events. This event scheme aimed to solve the event-to-intensity problem due to only firing 1 event when the intensity difference\n",
    "where many times higher. This algorithm works exactly like the singular events algorithm, but compensated for larger changes by firing more events. How it works:\n",
    "\n",
    "1. Using pixel intensity information, count how many threshold has been bypassed.\n",
    "2. Compare it to the count of the previous frame. Judging by the discrete difference, fire exactly that many events.\n",
    "3. Set the new frame as the new state.\n",
    "4. Repeat.\n",
    "\n",
    "NB! This algorithm requires much more memory due to larger event yield. If you choose to record the output, be sure to watch the disk usage frequently\n",
    "as the files sizes will be significant."
   ],
   "metadata": {
    "collapsed": false,
    "pycharm": {
     "name": "#%% md\n"
    }
   }
  },
  {
   "cell_type": "code",
   "execution_count": 15,
   "outputs": [
    {
     "data": {
      "text/plain": "<core.dsl.sink.window.Window at 0x1c04b910970>"
     },
     "execution_count": 15,
     "metadata": {},
     "output_type": "execute_result"
    }
   ],
   "source": [
    "mp4_in = Mp4Reader(mp4['formula1'])\n",
    "batch_frame_generator = EventBatchToFrames()\n",
    "window = Window('Deconstruction to stacking events.')\n",
    "\n",
    "# The deconstructor producing singular events. You may adjust threshold manually here.\n",
    "# This is not possible with most actual event cameras.\n",
    "deconstructor = Mp4ToStackingEvents(threshold=0.1)\n",
    "\n",
    "# Remember that deconstructor outputs event data.\n",
    "# You must generate frames from them before sending it to the window.\n",
    "# frames -> events -> frames -> void\n",
    "mp4_in >> deconstructor >> batch_frame_generator >> window"
   ],
   "metadata": {
    "collapsed": false,
    "pycharm": {
     "name": "#%%\n"
    }
   }
  },
  {
   "cell_type": "markdown",
   "source": [
    "Using the modules demonstrated, you can also record samples. Here we demonstrate event recording."
   ],
   "metadata": {
    "collapsed": false,
    "pycharm": {
     "name": "#%% md\n"
    }
   }
  },
  {
   "cell_type": "code",
   "execution_count": 22,
   "outputs": [
    {
     "name": "stdout",
     "output_type": "stream",
     "text": [
      "Frame: 813/10506\r"
     ]
    },
    {
     "ename": "KeyboardInterrupt",
     "evalue": "",
     "output_type": "error",
     "traceback": [
      "\u001B[1;31m---------------------------------------------------------------------------\u001B[0m",
      "\u001B[1;31mKeyboardInterrupt\u001B[0m                         Traceback (most recent call last)",
      "Input \u001B[1;32mIn [22]\u001B[0m, in \u001B[0;36m<cell line: 16>\u001B[1;34m()\u001B[0m\n\u001B[0;32m     11\u001B[0m         \u001B[38;5;28mprint\u001B[39m(\u001B[38;5;124mf\u001B[39m\u001B[38;5;124m'\u001B[39m\u001B[38;5;124mFrame: \u001B[39m\u001B[38;5;132;01m{\u001B[39;00mi\u001B[38;5;132;01m}\u001B[39;00m\u001B[38;5;124m/\u001B[39m\u001B[38;5;132;01m{\u001B[39;00mkwargs\u001B[38;5;241m.\u001B[39mget(\u001B[38;5;124m\"\u001B[39m\u001B[38;5;124mframe_cnt\u001B[39m\u001B[38;5;124m\"\u001B[39m)\u001B[38;5;132;01m}\u001B[39;00m\u001B[38;5;124m'\u001B[39m, end\u001B[38;5;241m=\u001B[39m\u001B[38;5;124m'\u001B[39m\u001B[38;5;130;01m\\r\u001B[39;00m\u001B[38;5;124m'\u001B[39m)\n\u001B[0;32m     13\u001B[0m     mp4_in \u001B[38;5;241m>>\u001B[39m print_progress \u001B[38;5;241m>>\u001B[39m deconstructor \u001B[38;5;241m>>\u001B[39m event_out\n\u001B[1;32m---> 16\u001B[0m \u001B[43mrun\u001B[49m\u001B[43m(\u001B[49m\u001B[43m)\u001B[49m\n",
      "Input \u001B[1;32mIn [22]\u001B[0m, in \u001B[0;36mrun\u001B[1;34m()\u001B[0m\n\u001B[0;32m     10\u001B[0m     i \u001B[38;5;241m+\u001B[39m\u001B[38;5;241m=\u001B[39m \u001B[38;5;241m1\u001B[39m\n\u001B[0;32m     11\u001B[0m     \u001B[38;5;28mprint\u001B[39m(\u001B[38;5;124mf\u001B[39m\u001B[38;5;124m'\u001B[39m\u001B[38;5;124mFrame: \u001B[39m\u001B[38;5;132;01m{\u001B[39;00mi\u001B[38;5;132;01m}\u001B[39;00m\u001B[38;5;124m/\u001B[39m\u001B[38;5;132;01m{\u001B[39;00mkwargs\u001B[38;5;241m.\u001B[39mget(\u001B[38;5;124m\"\u001B[39m\u001B[38;5;124mframe_cnt\u001B[39m\u001B[38;5;124m\"\u001B[39m)\u001B[38;5;132;01m}\u001B[39;00m\u001B[38;5;124m'\u001B[39m, end\u001B[38;5;241m=\u001B[39m\u001B[38;5;124m'\u001B[39m\u001B[38;5;130;01m\\r\u001B[39;00m\u001B[38;5;124m'\u001B[39m)\n\u001B[1;32m---> 13\u001B[0m \u001B[43mmp4_in\u001B[49m\u001B[43m \u001B[49m\u001B[38;5;241;43m>>\u001B[39;49m\u001B[43m \u001B[49m\u001B[43mprint_progress\u001B[49m\u001B[43m \u001B[49m\u001B[38;5;241;43m>>\u001B[39;49m\u001B[43m \u001B[49m\u001B[43mdeconstructor\u001B[49m\u001B[43m \u001B[49m\u001B[38;5;241;43m>>\u001B[39;49m\u001B[43m \u001B[49m\u001B[43mevent_out\u001B[49m\n",
      "File \u001B[1;32m~\\PycharmProjects\\idatt2900-event-reconstruction\\core\\dsl\\source\\module.py:34\u001B[0m, in \u001B[0;36mSource.__rshift__\u001B[1;34m(self, consumer)\u001B[0m\n\u001B[0;32m     33\u001B[0m \u001B[38;5;28;01mdef\u001B[39;00m \u001B[38;5;21m__rshift__\u001B[39m(\u001B[38;5;28mself\u001B[39m, consumer):\n\u001B[1;32m---> 34\u001B[0m     \u001B[38;5;28;01mreturn\u001B[39;00m \u001B[38;5;28;43mself\u001B[39;49m\u001B[38;5;241;43m.\u001B[39;49m\u001B[43mon_data_processed\u001B[49m\u001B[43m(\u001B[49m\u001B[43mconsumer\u001B[49m\u001B[43m)\u001B[49m\n",
      "File \u001B[1;32m~\\PycharmProjects\\idatt2900-event-reconstruction\\core\\dsl\\source\\module.py:28\u001B[0m, in \u001B[0;36mSource.on_data_processed\u001B[1;34m(self, consumer)\u001B[0m\n\u001B[0;32m     26\u001B[0m \u001B[38;5;28;01mif\u001B[39;00m \u001B[38;5;28missubclass\u001B[39m(\u001B[38;5;28mtype\u001B[39m(consumer), EventDispatcher):\n\u001B[0;32m     27\u001B[0m     \u001B[38;5;28mself\u001B[39m\u001B[38;5;241m.\u001B[39mmessage_dispatcher\u001B[38;5;241m.\u001B[39mjoin(consumer\u001B[38;5;241m.\u001B[39mmessage_dispatcher)\n\u001B[1;32m---> 28\u001B[0m     \u001B[38;5;28;43mself\u001B[39;49m\u001B[38;5;241;43m.\u001B[39;49m\u001B[43mmessage_dispatcher\u001B[49m\u001B[38;5;241;43m.\u001B[39;49m\u001B[43mnotify\u001B[49m\u001B[43m(\u001B[49m\u001B[43mBROADCASTER_JOINED\u001B[49m\u001B[43m)\u001B[49m\n\u001B[0;32m     29\u001B[0m     \u001B[38;5;28;01mreturn\u001B[39;00m consumer\n\u001B[0;32m     30\u001B[0m \u001B[38;5;28;01melse\u001B[39;00m:\n",
      "File \u001B[1;32m~\\PycharmProjects\\idatt2900-event-reconstruction\\core\\event\\event_broadcaster.py:21\u001B[0m, in \u001B[0;36mEventBroadcaster.notify\u001B[1;34m(self, subject, **kwargs)\u001B[0m\n\u001B[0;32m     19\u001B[0m \u001B[38;5;28mself\u001B[39m\u001B[38;5;241m.\u001B[39mdispatch_lock\u001B[38;5;241m.\u001B[39madd(subject)\n\u001B[0;32m     20\u001B[0m \u001B[38;5;28;01mfor\u001B[39;00m broadcaster \u001B[38;5;129;01min\u001B[39;00m \u001B[38;5;28mself\u001B[39m\u001B[38;5;241m.\u001B[39mnodes:\n\u001B[1;32m---> 21\u001B[0m     \u001B[43mbroadcaster\u001B[49m\u001B[38;5;241;43m.\u001B[39;49m\u001B[43mnotify\u001B[49m\u001B[43m(\u001B[49m\u001B[43msubject\u001B[49m\u001B[43m,\u001B[49m\u001B[43m \u001B[49m\u001B[38;5;241;43m*\u001B[39;49m\u001B[38;5;241;43m*\u001B[39;49m\u001B[43mkwargs\u001B[49m\u001B[43m)\u001B[49m\n\u001B[0;32m     23\u001B[0m \u001B[38;5;28mself\u001B[39m\u001B[38;5;241m.\u001B[39mdispatch_lock\u001B[38;5;241m.\u001B[39mremove(subject)\n",
      "File \u001B[1;32m~\\PycharmProjects\\idatt2900-event-reconstruction\\core\\event\\event_broadcaster.py:17\u001B[0m, in \u001B[0;36mEventBroadcaster.notify\u001B[1;34m(self, subject, **kwargs)\u001B[0m\n\u001B[0;32m     15\u001B[0m \u001B[38;5;28;01mif\u001B[39;00m callbacks \u001B[38;5;129;01mis\u001B[39;00m \u001B[38;5;129;01mnot\u001B[39;00m \u001B[38;5;28;01mNone\u001B[39;00m:\n\u001B[0;32m     16\u001B[0m     \u001B[38;5;28;01mfor\u001B[39;00m callback \u001B[38;5;129;01min\u001B[39;00m callbacks:\n\u001B[1;32m---> 17\u001B[0m         \u001B[43mcallback\u001B[49m\u001B[43m(\u001B[49m\u001B[38;5;241;43m*\u001B[39;49m\u001B[38;5;241;43m*\u001B[39;49m\u001B[43mkwargs\u001B[49m\u001B[43m)\u001B[49m\n\u001B[0;32m     19\u001B[0m \u001B[38;5;28mself\u001B[39m\u001B[38;5;241m.\u001B[39mdispatch_lock\u001B[38;5;241m.\u001B[39madd(subject)\n\u001B[0;32m     20\u001B[0m \u001B[38;5;28;01mfor\u001B[39;00m broadcaster \u001B[38;5;129;01min\u001B[39;00m \u001B[38;5;28mself\u001B[39m\u001B[38;5;241m.\u001B[39mnodes:\n",
      "File \u001B[1;32m~\\PycharmProjects\\idatt2900-event-reconstruction\\core\\dsl\\sink\\event_writer.py:18\u001B[0m, in \u001B[0;36mEventWriter.__init__.<locals>.<lambda>\u001B[1;34m()\u001B[0m\n\u001B[0;32m     15\u001B[0m \u001B[38;5;28mself\u001B[39m\u001B[38;5;241m.\u001B[39mwidth \u001B[38;5;241m=\u001B[39m \u001B[38;5;28;01mNone\u001B[39;00m\n\u001B[0;32m     17\u001B[0m \u001B[38;5;28mself\u001B[39m\u001B[38;5;241m.\u001B[39mmessage_dispatcher\u001B[38;5;241m.\u001B[39msubscribe(CLOSING, \u001B[38;5;28;01mlambda\u001B[39;00m: \u001B[38;5;28mself\u001B[39m\u001B[38;5;241m.\u001B[39mdat_writer\u001B[38;5;241m.\u001B[39mclose())\n\u001B[1;32m---> 18\u001B[0m \u001B[38;5;28mself\u001B[39m\u001B[38;5;241m.\u001B[39mmessage_dispatcher\u001B[38;5;241m.\u001B[39msubscribe(BROADCASTER_JOINED, \u001B[38;5;28;01mlambda\u001B[39;00m: \u001B[38;5;28;43mself\u001B[39;49m\u001B[38;5;241;43m.\u001B[39;49m\u001B[43mmessage_dispatcher\u001B[49m\u001B[38;5;241;43m.\u001B[39;49m\u001B[43mnotify\u001B[49m\u001B[43m(\u001B[49m\u001B[43mPIPELINE_READY\u001B[49m\u001B[43m)\u001B[49m)\n",
      "File \u001B[1;32m~\\PycharmProjects\\idatt2900-event-reconstruction\\core\\event\\event_broadcaster.py:21\u001B[0m, in \u001B[0;36mEventBroadcaster.notify\u001B[1;34m(self, subject, **kwargs)\u001B[0m\n\u001B[0;32m     19\u001B[0m \u001B[38;5;28mself\u001B[39m\u001B[38;5;241m.\u001B[39mdispatch_lock\u001B[38;5;241m.\u001B[39madd(subject)\n\u001B[0;32m     20\u001B[0m \u001B[38;5;28;01mfor\u001B[39;00m broadcaster \u001B[38;5;129;01min\u001B[39;00m \u001B[38;5;28mself\u001B[39m\u001B[38;5;241m.\u001B[39mnodes:\n\u001B[1;32m---> 21\u001B[0m     \u001B[43mbroadcaster\u001B[49m\u001B[38;5;241;43m.\u001B[39;49m\u001B[43mnotify\u001B[49m\u001B[43m(\u001B[49m\u001B[43msubject\u001B[49m\u001B[43m,\u001B[49m\u001B[43m \u001B[49m\u001B[38;5;241;43m*\u001B[39;49m\u001B[38;5;241;43m*\u001B[39;49m\u001B[43mkwargs\u001B[49m\u001B[43m)\u001B[49m\n\u001B[0;32m     23\u001B[0m \u001B[38;5;28mself\u001B[39m\u001B[38;5;241m.\u001B[39mdispatch_lock\u001B[38;5;241m.\u001B[39mremove(subject)\n",
      "File \u001B[1;32m~\\PycharmProjects\\idatt2900-event-reconstruction\\core\\event\\event_broadcaster.py:21\u001B[0m, in \u001B[0;36mEventBroadcaster.notify\u001B[1;34m(self, subject, **kwargs)\u001B[0m\n\u001B[0;32m     19\u001B[0m \u001B[38;5;28mself\u001B[39m\u001B[38;5;241m.\u001B[39mdispatch_lock\u001B[38;5;241m.\u001B[39madd(subject)\n\u001B[0;32m     20\u001B[0m \u001B[38;5;28;01mfor\u001B[39;00m broadcaster \u001B[38;5;129;01min\u001B[39;00m \u001B[38;5;28mself\u001B[39m\u001B[38;5;241m.\u001B[39mnodes:\n\u001B[1;32m---> 21\u001B[0m     \u001B[43mbroadcaster\u001B[49m\u001B[38;5;241;43m.\u001B[39;49m\u001B[43mnotify\u001B[49m\u001B[43m(\u001B[49m\u001B[43msubject\u001B[49m\u001B[43m,\u001B[49m\u001B[43m \u001B[49m\u001B[38;5;241;43m*\u001B[39;49m\u001B[38;5;241;43m*\u001B[39;49m\u001B[43mkwargs\u001B[49m\u001B[43m)\u001B[49m\n\u001B[0;32m     23\u001B[0m \u001B[38;5;28mself\u001B[39m\u001B[38;5;241m.\u001B[39mdispatch_lock\u001B[38;5;241m.\u001B[39mremove(subject)\n",
      "File \u001B[1;32m~\\PycharmProjects\\idatt2900-event-reconstruction\\core\\event\\event_broadcaster.py:17\u001B[0m, in \u001B[0;36mEventBroadcaster.notify\u001B[1;34m(self, subject, **kwargs)\u001B[0m\n\u001B[0;32m     15\u001B[0m \u001B[38;5;28;01mif\u001B[39;00m callbacks \u001B[38;5;129;01mis\u001B[39;00m \u001B[38;5;129;01mnot\u001B[39;00m \u001B[38;5;28;01mNone\u001B[39;00m:\n\u001B[0;32m     16\u001B[0m     \u001B[38;5;28;01mfor\u001B[39;00m callback \u001B[38;5;129;01min\u001B[39;00m callbacks:\n\u001B[1;32m---> 17\u001B[0m         \u001B[43mcallback\u001B[49m\u001B[43m(\u001B[49m\u001B[38;5;241;43m*\u001B[39;49m\u001B[38;5;241;43m*\u001B[39;49m\u001B[43mkwargs\u001B[49m\u001B[43m)\u001B[49m\n\u001B[0;32m     19\u001B[0m \u001B[38;5;28mself\u001B[39m\u001B[38;5;241m.\u001B[39mdispatch_lock\u001B[38;5;241m.\u001B[39madd(subject)\n\u001B[0;32m     20\u001B[0m \u001B[38;5;28;01mfor\u001B[39;00m broadcaster \u001B[38;5;129;01min\u001B[39;00m \u001B[38;5;28mself\u001B[39m\u001B[38;5;241m.\u001B[39mnodes:\n",
      "File \u001B[1;32m~\\PycharmProjects\\idatt2900-event-reconstruction\\core\\dsl\\source\\mp4_reader.py:44\u001B[0m, in \u001B[0;36mMp4Reader.iterate_frames\u001B[1;34m(self)\u001B[0m\n\u001B[0;32m     41\u001B[0m     \u001B[38;5;28;01mif\u001B[39;00m \u001B[38;5;129;01mnot\u001B[39;00m ret:\n\u001B[0;32m     42\u001B[0m         \u001B[38;5;28;01mbreak\u001B[39;00m\n\u001B[1;32m---> 44\u001B[0m     \u001B[38;5;28;43mself\u001B[39;49m\u001B[38;5;241;43m.\u001B[39;49m\u001B[43mcallback\u001B[49m\u001B[43m(\u001B[49m\u001B[43mframe\u001B[49m\u001B[43m,\u001B[49m\u001B[43m \u001B[49m\u001B[38;5;241;43m*\u001B[39;49m\u001B[38;5;241;43m*\u001B[39;49m\u001B[43mproperties\u001B[49m\u001B[43m)\u001B[49m\n\u001B[0;32m     46\u001B[0m \u001B[38;5;28mself\u001B[39m\u001B[38;5;241m.\u001B[39mmessage_dispatcher\u001B[38;5;241m.\u001B[39mnotify(CLOSING)\n",
      "File \u001B[1;32m~\\PycharmProjects\\idatt2900-event-reconstruction\\core\\dsl\\source\\module.py:19\u001B[0m, in \u001B[0;36mSource.on_data_processed.<locals>.new_callback\u001B[1;34m(data, **kwargs)\u001B[0m\n\u001B[0;32m     17\u001B[0m \u001B[38;5;28;01mtry\u001B[39;00m:\n\u001B[0;32m     18\u001B[0m     old_cb(data, \u001B[38;5;241m*\u001B[39m\u001B[38;5;241m*\u001B[39mkwargs)\n\u001B[1;32m---> 19\u001B[0m     \u001B[43mnew_cb\u001B[49m\u001B[43m(\u001B[49m\u001B[43mdata\u001B[49m\u001B[43m,\u001B[49m\u001B[43m \u001B[49m\u001B[38;5;241;43m*\u001B[39;49m\u001B[38;5;241;43m*\u001B[39;49m\u001B[43mkwargs\u001B[49m\u001B[43m)\u001B[49m\n\u001B[0;32m     20\u001B[0m \u001B[38;5;28;01mexcept\u001B[39;00m \u001B[38;5;167;01mException\u001B[39;00m:\n\u001B[0;32m     21\u001B[0m     \u001B[38;5;28mself\u001B[39m\u001B[38;5;241m.\u001B[39mmessage_dispatcher\u001B[38;5;241m.\u001B[39mnotify(CLOSING)\n",
      "File \u001B[1;32m~\\PycharmProjects\\idatt2900-event-reconstruction\\core\\dsl\\sink\\module.py:25\u001B[0m, in \u001B[0;36mSink.__call__\u001B[1;34m(self, data, **kwargs)\u001B[0m\n\u001B[0;32m     24\u001B[0m \u001B[38;5;28;01mdef\u001B[39;00m \u001B[38;5;21m__call__\u001B[39m(\u001B[38;5;28mself\u001B[39m, data, \u001B[38;5;241m*\u001B[39m\u001B[38;5;241m*\u001B[39mkwargs):\n\u001B[1;32m---> 25\u001B[0m     \u001B[38;5;28;43mself\u001B[39;49m\u001B[38;5;241;43m.\u001B[39;49m\u001B[43mprocess_data\u001B[49m\u001B[43m(\u001B[49m\u001B[43mdata\u001B[49m\u001B[43m,\u001B[49m\u001B[43m \u001B[49m\u001B[38;5;241;43m*\u001B[39;49m\u001B[38;5;241;43m*\u001B[39;49m\u001B[43mkwargs\u001B[49m\u001B[43m)\u001B[49m\n",
      "File \u001B[1;32m~\\PycharmProjects\\idatt2900-event-reconstruction\\core\\dsl\\transformer\\mp4_to_sliding_events.py:57\u001B[0m, in \u001B[0;36mMp4ToSlidingEvents.process_data\u001B[1;34m(self, image, **kwargs)\u001B[0m\n\u001B[0;32m     54\u001B[0m neg_events \u001B[38;5;241m=\u001B[39m np\u001B[38;5;241m.\u001B[39mcolumn_stack([cord_down, np\u001B[38;5;241m.\u001B[39mzeros((cord_down\u001B[38;5;241m.\u001B[39mshape[\u001B[38;5;241m0\u001B[39m],), dtype\u001B[38;5;241m=\u001B[39mnp\u001B[38;5;241m.\u001B[39mint16)])\n\u001B[0;32m     56\u001B[0m \u001B[38;5;66;03m# Appending both polarities in same table.\u001B[39;00m\n\u001B[1;32m---> 57\u001B[0m events \u001B[38;5;241m=\u001B[39m \u001B[43mnp\u001B[49m\u001B[38;5;241;43m.\u001B[39;49m\u001B[43mrow_stack\u001B[49m\u001B[43m(\u001B[49m\u001B[43m[\u001B[49m\u001B[43mpos_events\u001B[49m\u001B[43m,\u001B[49m\u001B[43m \u001B[49m\u001B[43mneg_events\u001B[49m\u001B[43m]\u001B[49m\u001B[43m)\u001B[49m\n\u001B[0;32m     59\u001B[0m \u001B[38;5;66;03m# Adding the time column. All events from this iteration share the same timestamp.\u001B[39;00m\n\u001B[0;32m     60\u001B[0m events \u001B[38;5;241m=\u001B[39m np\u001B[38;5;241m.\u001B[39mcolumn_stack([events, np\u001B[38;5;241m.\u001B[39mfull((events\u001B[38;5;241m.\u001B[39mshape[\u001B[38;5;241m0\u001B[39m],), timestamp, dtype\u001B[38;5;241m=\u001B[39mnp\u001B[38;5;241m.\u001B[39mint64)])\n",
      "File \u001B[1;32m<__array_function__ internals>:180\u001B[0m, in \u001B[0;36mvstack\u001B[1;34m(*args, **kwargs)\u001B[0m\n",
      "File \u001B[1;32m~\\AppData\\Local\\Programs\\Python\\Python38\\lib\\site-packages\\numpy\\core\\shape_base.py:282\u001B[0m, in \u001B[0;36mvstack\u001B[1;34m(tup)\u001B[0m\n\u001B[0;32m    280\u001B[0m \u001B[38;5;28;01mif\u001B[39;00m \u001B[38;5;129;01mnot\u001B[39;00m \u001B[38;5;28misinstance\u001B[39m(arrs, \u001B[38;5;28mlist\u001B[39m):\n\u001B[0;32m    281\u001B[0m     arrs \u001B[38;5;241m=\u001B[39m [arrs]\n\u001B[1;32m--> 282\u001B[0m \u001B[38;5;28;01mreturn\u001B[39;00m \u001B[43m_nx\u001B[49m\u001B[38;5;241;43m.\u001B[39;49m\u001B[43mconcatenate\u001B[49m\u001B[43m(\u001B[49m\u001B[43marrs\u001B[49m\u001B[43m,\u001B[49m\u001B[43m \u001B[49m\u001B[38;5;241;43m0\u001B[39;49m\u001B[43m)\u001B[49m\n",
      "File \u001B[1;32m<__array_function__ internals>:180\u001B[0m, in \u001B[0;36mconcatenate\u001B[1;34m(*args, **kwargs)\u001B[0m\n",
      "\u001B[1;31mKeyboardInterrupt\u001B[0m: "
     ]
    }
   ],
   "source": [
    "mp4_in = Mp4Reader(mp4['formula1'])\n",
    "deconstructor = Mp4ToSlidingEvents(threshold=0.07)\n",
    "event_out = EventWriter('./samples/decon/my-formula1-decon.dat')\n",
    "\n",
    "def run():\n",
    "    i = 0\n",
    "\n",
    "    def print_progress(data, **kwargs):\n",
    "        nonlocal i\n",
    "        i += 1\n",
    "        print(f'Frame: {i}/{kwargs.get(\"frame_cnt\")}', end='\\r')\n",
    "\n",
    "    mp4_in >> print_progress >> deconstructor >> event_out\n",
    "\n",
    "\n",
    "run()"
   ],
   "metadata": {
    "collapsed": false,
    "pycharm": {
     "name": "#%%\n"
    }
   }
  },
  {
   "cell_type": "markdown",
   "source": [
    "You can also record reconstructions."
   ],
   "metadata": {
    "collapsed": false,
    "pycharm": {
     "name": "#%% md\n"
    }
   }
  },
  {
   "cell_type": "code",
   "execution_count": 6,
   "outputs": [
    {
     "ename": "KeyboardInterrupt",
     "evalue": "",
     "output_type": "error",
     "traceback": [
      "\u001B[1;31m---------------------------------------------------------------------------\u001B[0m",
      "\u001B[1;31mKeyboardInterrupt\u001B[0m                         Traceback (most recent call last)",
      "Input \u001B[1;32mIn [6]\u001B[0m, in \u001B[0;36m<cell line: 11>\u001B[1;34m()\u001B[0m\n\u001B[0;32m      2\u001B[0m reconstructor \u001B[38;5;241m=\u001B[39m AsymptoticIntensityPredictor(\n\u001B[0;32m      3\u001B[0m     gaussian_filter_sigma\u001B[38;5;241m=\u001B[39m\u001B[38;5;241m0.3\u001B[39m,\n\u001B[0;32m      4\u001B[0m     colorspace\u001B[38;5;241m=\u001B[39m\u001B[38;5;241m255\u001B[39m,\n\u001B[1;32m   (...)\u001B[0m\n\u001B[0;32m      7\u001B[0m     intensity_impedance\u001B[38;5;241m=\u001B[39m\u001B[38;5;241m1.0\u001B[39m\n\u001B[0;32m      8\u001B[0m )\n\u001B[0;32m      9\u001B[0m mp4_out \u001B[38;5;241m=\u001B[39m Mp4Writer(\u001B[38;5;124m'\u001B[39m\u001B[38;5;124m./samples/recon/my-formula1-recon.mp4\u001B[39m\u001B[38;5;124m'\u001B[39m, fps\u001B[38;5;241m=\u001B[39m\u001B[38;5;241m30\u001B[39m)\n\u001B[1;32m---> 11\u001B[0m \u001B[43mevent_in\u001B[49m\u001B[43m \u001B[49m\u001B[38;5;241;43m>>\u001B[39;49m\u001B[43m \u001B[49m\u001B[43mreconstructor\u001B[49m\u001B[43m \u001B[49m\u001B[38;5;241;43m>>\u001B[39;49m\u001B[43m \u001B[49m\u001B[43mmp4_out\u001B[49m\n",
      "File \u001B[1;32m~\\PycharmProjects\\idatt2900-event-reconstruction\\core\\dsl\\source\\module.py:34\u001B[0m, in \u001B[0;36mSource.__rshift__\u001B[1;34m(self, consumer)\u001B[0m\n\u001B[0;32m     33\u001B[0m \u001B[38;5;28;01mdef\u001B[39;00m \u001B[38;5;21m__rshift__\u001B[39m(\u001B[38;5;28mself\u001B[39m, consumer):\n\u001B[1;32m---> 34\u001B[0m     \u001B[38;5;28;01mreturn\u001B[39;00m \u001B[38;5;28;43mself\u001B[39;49m\u001B[38;5;241;43m.\u001B[39;49m\u001B[43mon_data_processed\u001B[49m\u001B[43m(\u001B[49m\u001B[43mconsumer\u001B[49m\u001B[43m)\u001B[49m\n",
      "File \u001B[1;32m~\\PycharmProjects\\idatt2900-event-reconstruction\\core\\dsl\\source\\module.py:28\u001B[0m, in \u001B[0;36mSource.on_data_processed\u001B[1;34m(self, consumer)\u001B[0m\n\u001B[0;32m     26\u001B[0m \u001B[38;5;28;01mif\u001B[39;00m \u001B[38;5;28missubclass\u001B[39m(\u001B[38;5;28mtype\u001B[39m(consumer), EventDispatcher):\n\u001B[0;32m     27\u001B[0m     \u001B[38;5;28mself\u001B[39m\u001B[38;5;241m.\u001B[39mmessage_dispatcher\u001B[38;5;241m.\u001B[39mjoin(consumer\u001B[38;5;241m.\u001B[39mmessage_dispatcher)\n\u001B[1;32m---> 28\u001B[0m     \u001B[38;5;28;43mself\u001B[39;49m\u001B[38;5;241;43m.\u001B[39;49m\u001B[43mmessage_dispatcher\u001B[49m\u001B[38;5;241;43m.\u001B[39;49m\u001B[43mnotify\u001B[49m\u001B[43m(\u001B[49m\u001B[43mBROADCASTER_JOINED\u001B[49m\u001B[43m)\u001B[49m\n\u001B[0;32m     29\u001B[0m     \u001B[38;5;28;01mreturn\u001B[39;00m consumer\n\u001B[0;32m     30\u001B[0m \u001B[38;5;28;01melse\u001B[39;00m:\n",
      "File \u001B[1;32m~\\PycharmProjects\\idatt2900-event-reconstruction\\core\\event\\event_broadcaster.py:21\u001B[0m, in \u001B[0;36mEventBroadcaster.notify\u001B[1;34m(self, subject, **kwargs)\u001B[0m\n\u001B[0;32m     19\u001B[0m \u001B[38;5;28mself\u001B[39m\u001B[38;5;241m.\u001B[39mdispatch_lock\u001B[38;5;241m.\u001B[39madd(subject)\n\u001B[0;32m     20\u001B[0m \u001B[38;5;28;01mfor\u001B[39;00m broadcaster \u001B[38;5;129;01min\u001B[39;00m \u001B[38;5;28mself\u001B[39m\u001B[38;5;241m.\u001B[39mnodes:\n\u001B[1;32m---> 21\u001B[0m     \u001B[43mbroadcaster\u001B[49m\u001B[38;5;241;43m.\u001B[39;49m\u001B[43mnotify\u001B[49m\u001B[43m(\u001B[49m\u001B[43msubject\u001B[49m\u001B[43m,\u001B[49m\u001B[43m \u001B[49m\u001B[38;5;241;43m*\u001B[39;49m\u001B[38;5;241;43m*\u001B[39;49m\u001B[43mkwargs\u001B[49m\u001B[43m)\u001B[49m\n\u001B[0;32m     23\u001B[0m \u001B[38;5;28mself\u001B[39m\u001B[38;5;241m.\u001B[39mdispatch_lock\u001B[38;5;241m.\u001B[39mremove(subject)\n",
      "File \u001B[1;32m~\\PycharmProjects\\idatt2900-event-reconstruction\\core\\event\\event_broadcaster.py:17\u001B[0m, in \u001B[0;36mEventBroadcaster.notify\u001B[1;34m(self, subject, **kwargs)\u001B[0m\n\u001B[0;32m     15\u001B[0m \u001B[38;5;28;01mif\u001B[39;00m callbacks \u001B[38;5;129;01mis\u001B[39;00m \u001B[38;5;129;01mnot\u001B[39;00m \u001B[38;5;28;01mNone\u001B[39;00m:\n\u001B[0;32m     16\u001B[0m     \u001B[38;5;28;01mfor\u001B[39;00m callback \u001B[38;5;129;01min\u001B[39;00m callbacks:\n\u001B[1;32m---> 17\u001B[0m         \u001B[43mcallback\u001B[49m\u001B[43m(\u001B[49m\u001B[38;5;241;43m*\u001B[39;49m\u001B[38;5;241;43m*\u001B[39;49m\u001B[43mkwargs\u001B[49m\u001B[43m)\u001B[49m\n\u001B[0;32m     19\u001B[0m \u001B[38;5;28mself\u001B[39m\u001B[38;5;241m.\u001B[39mdispatch_lock\u001B[38;5;241m.\u001B[39madd(subject)\n\u001B[0;32m     20\u001B[0m \u001B[38;5;28;01mfor\u001B[39;00m broadcaster \u001B[38;5;129;01min\u001B[39;00m \u001B[38;5;28mself\u001B[39m\u001B[38;5;241m.\u001B[39mnodes:\n",
      "File \u001B[1;32m~\\PycharmProjects\\idatt2900-event-reconstruction\\core\\dsl\\sink\\mp4_writer.py:23\u001B[0m, in \u001B[0;36mMp4Writer.__init__.<locals>.<lambda>\u001B[1;34m()\u001B[0m\n\u001B[0;32m     20\u001B[0m \u001B[38;5;28mself\u001B[39m\u001B[38;5;241m.\u001B[39mwidth \u001B[38;5;241m=\u001B[39m \u001B[38;5;28;01mNone\u001B[39;00m\n\u001B[0;32m     22\u001B[0m \u001B[38;5;28mself\u001B[39m\u001B[38;5;241m.\u001B[39mmessage_dispatcher\u001B[38;5;241m.\u001B[39msubscribe(CLOSING, \u001B[38;5;28;01mlambda\u001B[39;00m: \u001B[38;5;28mself\u001B[39m\u001B[38;5;241m.\u001B[39mmp4_writer\u001B[38;5;241m.\u001B[39mrelease())\n\u001B[1;32m---> 23\u001B[0m \u001B[38;5;28mself\u001B[39m\u001B[38;5;241m.\u001B[39mmessage_dispatcher\u001B[38;5;241m.\u001B[39msubscribe(BROADCASTER_JOINED, \u001B[38;5;28;01mlambda\u001B[39;00m: \u001B[38;5;28;43mself\u001B[39;49m\u001B[38;5;241;43m.\u001B[39;49m\u001B[43mmessage_dispatcher\u001B[49m\u001B[38;5;241;43m.\u001B[39;49m\u001B[43mnotify\u001B[49m\u001B[43m(\u001B[49m\u001B[43mPIPELINE_READY\u001B[49m\u001B[43m)\u001B[49m)\n",
      "File \u001B[1;32m~\\PycharmProjects\\idatt2900-event-reconstruction\\core\\event\\event_broadcaster.py:21\u001B[0m, in \u001B[0;36mEventBroadcaster.notify\u001B[1;34m(self, subject, **kwargs)\u001B[0m\n\u001B[0;32m     19\u001B[0m \u001B[38;5;28mself\u001B[39m\u001B[38;5;241m.\u001B[39mdispatch_lock\u001B[38;5;241m.\u001B[39madd(subject)\n\u001B[0;32m     20\u001B[0m \u001B[38;5;28;01mfor\u001B[39;00m broadcaster \u001B[38;5;129;01min\u001B[39;00m \u001B[38;5;28mself\u001B[39m\u001B[38;5;241m.\u001B[39mnodes:\n\u001B[1;32m---> 21\u001B[0m     \u001B[43mbroadcaster\u001B[49m\u001B[38;5;241;43m.\u001B[39;49m\u001B[43mnotify\u001B[49m\u001B[43m(\u001B[49m\u001B[43msubject\u001B[49m\u001B[43m,\u001B[49m\u001B[43m \u001B[49m\u001B[38;5;241;43m*\u001B[39;49m\u001B[38;5;241;43m*\u001B[39;49m\u001B[43mkwargs\u001B[49m\u001B[43m)\u001B[49m\n\u001B[0;32m     23\u001B[0m \u001B[38;5;28mself\u001B[39m\u001B[38;5;241m.\u001B[39mdispatch_lock\u001B[38;5;241m.\u001B[39mremove(subject)\n",
      "File \u001B[1;32m~\\PycharmProjects\\idatt2900-event-reconstruction\\core\\event\\event_broadcaster.py:21\u001B[0m, in \u001B[0;36mEventBroadcaster.notify\u001B[1;34m(self, subject, **kwargs)\u001B[0m\n\u001B[0;32m     19\u001B[0m \u001B[38;5;28mself\u001B[39m\u001B[38;5;241m.\u001B[39mdispatch_lock\u001B[38;5;241m.\u001B[39madd(subject)\n\u001B[0;32m     20\u001B[0m \u001B[38;5;28;01mfor\u001B[39;00m broadcaster \u001B[38;5;129;01min\u001B[39;00m \u001B[38;5;28mself\u001B[39m\u001B[38;5;241m.\u001B[39mnodes:\n\u001B[1;32m---> 21\u001B[0m     \u001B[43mbroadcaster\u001B[49m\u001B[38;5;241;43m.\u001B[39;49m\u001B[43mnotify\u001B[49m\u001B[43m(\u001B[49m\u001B[43msubject\u001B[49m\u001B[43m,\u001B[49m\u001B[43m \u001B[49m\u001B[38;5;241;43m*\u001B[39;49m\u001B[38;5;241;43m*\u001B[39;49m\u001B[43mkwargs\u001B[49m\u001B[43m)\u001B[49m\n\u001B[0;32m     23\u001B[0m \u001B[38;5;28mself\u001B[39m\u001B[38;5;241m.\u001B[39mdispatch_lock\u001B[38;5;241m.\u001B[39mremove(subject)\n",
      "File \u001B[1;32m~\\PycharmProjects\\idatt2900-event-reconstruction\\core\\event\\event_broadcaster.py:17\u001B[0m, in \u001B[0;36mEventBroadcaster.notify\u001B[1;34m(self, subject, **kwargs)\u001B[0m\n\u001B[0;32m     15\u001B[0m \u001B[38;5;28;01mif\u001B[39;00m callbacks \u001B[38;5;129;01mis\u001B[39;00m \u001B[38;5;129;01mnot\u001B[39;00m \u001B[38;5;28;01mNone\u001B[39;00m:\n\u001B[0;32m     16\u001B[0m     \u001B[38;5;28;01mfor\u001B[39;00m callback \u001B[38;5;129;01min\u001B[39;00m callbacks:\n\u001B[1;32m---> 17\u001B[0m         \u001B[43mcallback\u001B[49m\u001B[43m(\u001B[49m\u001B[38;5;241;43m*\u001B[39;49m\u001B[38;5;241;43m*\u001B[39;49m\u001B[43mkwargs\u001B[49m\u001B[43m)\u001B[49m\n\u001B[0;32m     19\u001B[0m \u001B[38;5;28mself\u001B[39m\u001B[38;5;241m.\u001B[39mdispatch_lock\u001B[38;5;241m.\u001B[39madd(subject)\n\u001B[0;32m     20\u001B[0m \u001B[38;5;28;01mfor\u001B[39;00m broadcaster \u001B[38;5;129;01min\u001B[39;00m \u001B[38;5;28mself\u001B[39m\u001B[38;5;241m.\u001B[39mnodes:\n",
      "File \u001B[1;32m~\\PycharmProjects\\idatt2900-event-reconstruction\\core\\dsl\\source\\events_reader.py:49\u001B[0m, in \u001B[0;36mEventReader.iterate_events\u001B[1;34m(self)\u001B[0m\n\u001B[0;32m     47\u001B[0m     \u001B[38;5;28;01mif\u001B[39;00m \u001B[38;5;28mself\u001B[39m\u001B[38;5;241m.\u001B[39mclosed:\n\u001B[0;32m     48\u001B[0m         \u001B[38;5;28;01mbreak\u001B[39;00m\n\u001B[1;32m---> 49\u001B[0m     \u001B[38;5;28;43mself\u001B[39;49m\u001B[38;5;241;43m.\u001B[39;49m\u001B[43mcallback\u001B[49m\u001B[43m(\u001B[49m\u001B[43mevents\u001B[49m\u001B[43m,\u001B[49m\u001B[43m \u001B[49m\u001B[43mheight\u001B[49m\u001B[38;5;241;43m=\u001B[39;49m\u001B[43mheight\u001B[49m\u001B[43m,\u001B[49m\u001B[43m \u001B[49m\u001B[43mwidth\u001B[49m\u001B[38;5;241;43m=\u001B[39;49m\u001B[43mwidth\u001B[49m\u001B[43m)\u001B[49m\n\u001B[0;32m     51\u001B[0m \u001B[38;5;28mself\u001B[39m\u001B[38;5;241m.\u001B[39mmessage_dispatcher\u001B[38;5;241m.\u001B[39mnotify(CLOSING)\n",
      "File \u001B[1;32m~\\PycharmProjects\\idatt2900-event-reconstruction\\core\\dsl\\source\\module.py:19\u001B[0m, in \u001B[0;36mSource.on_data_processed.<locals>.new_callback\u001B[1;34m(data, **kwargs)\u001B[0m\n\u001B[0;32m     17\u001B[0m \u001B[38;5;28;01mtry\u001B[39;00m:\n\u001B[0;32m     18\u001B[0m     old_cb(data, \u001B[38;5;241m*\u001B[39m\u001B[38;5;241m*\u001B[39mkwargs)\n\u001B[1;32m---> 19\u001B[0m     \u001B[43mnew_cb\u001B[49m\u001B[43m(\u001B[49m\u001B[43mdata\u001B[49m\u001B[43m,\u001B[49m\u001B[43m \u001B[49m\u001B[38;5;241;43m*\u001B[39;49m\u001B[38;5;241;43m*\u001B[39;49m\u001B[43mkwargs\u001B[49m\u001B[43m)\u001B[49m\n\u001B[0;32m     20\u001B[0m \u001B[38;5;28;01mexcept\u001B[39;00m \u001B[38;5;167;01mException\u001B[39;00m:\n\u001B[0;32m     21\u001B[0m     \u001B[38;5;28mself\u001B[39m\u001B[38;5;241m.\u001B[39mmessage_dispatcher\u001B[38;5;241m.\u001B[39mnotify(CLOSING)\n",
      "File \u001B[1;32m~\\PycharmProjects\\idatt2900-event-reconstruction\\core\\dsl\\sink\\module.py:25\u001B[0m, in \u001B[0;36mSink.__call__\u001B[1;34m(self, data, **kwargs)\u001B[0m\n\u001B[0;32m     24\u001B[0m \u001B[38;5;28;01mdef\u001B[39;00m \u001B[38;5;21m__call__\u001B[39m(\u001B[38;5;28mself\u001B[39m, data, \u001B[38;5;241m*\u001B[39m\u001B[38;5;241m*\u001B[39mkwargs):\n\u001B[1;32m---> 25\u001B[0m     \u001B[38;5;28;43mself\u001B[39;49m\u001B[38;5;241;43m.\u001B[39;49m\u001B[43mprocess_data\u001B[49m\u001B[43m(\u001B[49m\u001B[43mdata\u001B[49m\u001B[43m,\u001B[49m\u001B[43m \u001B[49m\u001B[38;5;241;43m*\u001B[39;49m\u001B[38;5;241;43m*\u001B[39;49m\u001B[43mkwargs\u001B[49m\u001B[43m)\u001B[49m\n",
      "File \u001B[1;32m~\\PycharmProjects\\idatt2900-event-reconstruction\\core\\dsl\\transformer\\event_to_intensity_predictor.py:36\u001B[0m, in \u001B[0;36mAsymptoticIntensityPredictor.process_data\u001B[1;34m(self, events, **kwargs)\u001B[0m\n\u001B[0;32m     33\u001B[0m delta_down \u001B[38;5;241m=\u001B[39m np\u001B[38;5;241m.\u001B[39margwhere(events[\u001B[38;5;124m'\u001B[39m\u001B[38;5;124mp\u001B[39m\u001B[38;5;124m'\u001B[39m] \u001B[38;5;241m==\u001B[39m \u001B[38;5;241m0\u001B[39m)\n\u001B[0;32m     35\u001B[0m decay \u001B[38;5;241m=\u001B[39m \u001B[38;5;28mself\u001B[39m\u001B[38;5;241m.\u001B[39mintensity_decay \u001B[38;5;241m*\u001B[39m \u001B[38;5;28mself\u001B[39m\u001B[38;5;241m.\u001B[39mintensity_inference\n\u001B[1;32m---> 36\u001B[0m decay[events[\u001B[38;5;124m'\u001B[39m\u001B[38;5;124my\u001B[39m\u001B[38;5;124m'\u001B[39m], events[\u001B[38;5;124m'\u001B[39m\u001B[38;5;124mx\u001B[39m\u001B[38;5;124m'\u001B[39m]] \u001B[38;5;241m=\u001B[39m \u001B[38;5;241m0\u001B[39m\n\u001B[0;32m     37\u001B[0m \u001B[38;5;28mself\u001B[39m\u001B[38;5;241m.\u001B[39mintensity_inference \u001B[38;5;241m-\u001B[39m\u001B[38;5;241m=\u001B[39m decay\n\u001B[0;32m     39\u001B[0m temp \u001B[38;5;241m=\u001B[39m \u001B[38;5;28mself\u001B[39m\u001B[38;5;241m.\u001B[39mintensity_inference[events[\u001B[38;5;124m'\u001B[39m\u001B[38;5;124my\u001B[39m\u001B[38;5;124m'\u001B[39m], events[\u001B[38;5;124m'\u001B[39m\u001B[38;5;124mx\u001B[39m\u001B[38;5;124m'\u001B[39m]]\n",
      "\u001B[1;31mKeyboardInterrupt\u001B[0m: "
     ]
    }
   ],
   "source": [
    "event_in = EventReader(decon['formula1'], delta_t=1e5)\n",
    "reconstructor = AsymptoticIntensityPredictor(\n",
    "    gaussian_filter_sigma=0.3,\n",
    "    colorspace=255,\n",
    "    colorspace_offset=0,\n",
    "    intensity_decay=0.05,\n",
    "    intensity_impedance=1.0\n",
    ")\n",
    "mp4_out = Mp4Writer('./samples/recon/my-formula1-recon.mp4', fps=30)\n",
    "\n",
    "event_in >> reconstructor >> mp4_out"
   ],
   "metadata": {
    "collapsed": false,
    "pycharm": {
     "name": "#%%\n"
    }
   }
  },
  {
   "cell_type": "markdown",
   "source": [
    "Feel free to convert mp4 to dat via the command line tool as well."
   ],
   "metadata": {
    "collapsed": false,
    "pycharm": {
     "name": "#%% md\n"
    }
   }
  },
  {
   "cell_type": "code",
   "execution_count": 13,
   "outputs": [
    {
     "name": "stdout",
     "output_type": "stream",
     "text": [
      "50/10506 frames.\r"
     ]
    },
    {
     "ename": "KeyboardInterrupt",
     "evalue": "",
     "output_type": "error",
     "traceback": [
      "\u001B[1;31m---------------------------------------------------------------------------\u001B[0m",
      "\u001B[1;31mKeyboardInterrupt\u001B[0m                         Traceback (most recent call last)",
      "File \u001B[1;32m~\\PycharmProjects\\idatt2900-event-reconstruction\\mp4_to_dat.py:97\u001B[0m, in \u001B[0;36m<module>\u001B[1;34m\u001B[0m\n\u001B[0;32m     93\u001B[0m     mp4_to_dat()\n\u001B[0;32m     96\u001B[0m \u001B[38;5;28;01mif\u001B[39;00m \u001B[38;5;18m__name__\u001B[39m \u001B[38;5;241m==\u001B[39m \u001B[38;5;124m\"\u001B[39m\u001B[38;5;124m__main__\u001B[39m\u001B[38;5;124m\"\u001B[39m:\n\u001B[1;32m---> 97\u001B[0m     \u001B[43mmain\u001B[49m\u001B[43m(\u001B[49m\u001B[43m)\u001B[49m\n",
      "File \u001B[1;32m~\\PycharmProjects\\idatt2900-event-reconstruction\\mp4_to_dat.py:93\u001B[0m, in \u001B[0;36mmain\u001B[1;34m()\u001B[0m\n\u001B[0;32m     90\u001B[0m     \u001B[38;5;28;01melif\u001B[39;00m event_mode \u001B[38;5;241m==\u001B[39m \u001B[38;5;124m'\u001B[39m\u001B[38;5;124msliding\u001B[39m\u001B[38;5;124m'\u001B[39m:\n\u001B[0;32m     91\u001B[0m         mp4_in \u001B[38;5;241m>>\u001B[39m Mp4ToSlidingEvents(threshold) \u001B[38;5;241m>>\u001B[39m progress_report \u001B[38;5;241m>>\u001B[39m dat_out\n\u001B[1;32m---> 93\u001B[0m \u001B[43mmp4_to_dat\u001B[49m\u001B[43m(\u001B[49m\u001B[43m)\u001B[49m\n",
      "File \u001B[1;32m~\\PycharmProjects\\idatt2900-event-reconstruction\\mp4_to_dat.py:85\u001B[0m, in \u001B[0;36mmain.<locals>.mp4_to_dat\u001B[1;34m()\u001B[0m\n\u001B[0;32m     82\u001B[0m     i \u001B[38;5;241m+\u001B[39m\u001B[38;5;241m=\u001B[39m \u001B[38;5;241m1\u001B[39m\n\u001B[0;32m     84\u001B[0m \u001B[38;5;28;01mif\u001B[39;00m event_mode \u001B[38;5;241m==\u001B[39m \u001B[38;5;124m'\u001B[39m\u001B[38;5;124msingular\u001B[39m\u001B[38;5;124m'\u001B[39m:\n\u001B[1;32m---> 85\u001B[0m     \u001B[43mmp4_in\u001B[49m\u001B[43m \u001B[49m\u001B[38;5;241;43m>>\u001B[39;49m\u001B[43m \u001B[49m\u001B[43mMp4ToSingularEvents\u001B[49m\u001B[43m(\u001B[49m\u001B[43mthreshold\u001B[49m\u001B[43m)\u001B[49m\u001B[43m \u001B[49m\u001B[38;5;241;43m>>\u001B[39;49m\u001B[43m \u001B[49m\u001B[43mprogress_report\u001B[49m\u001B[43m \u001B[49m\u001B[38;5;241;43m>>\u001B[39;49m\u001B[43m \u001B[49m\u001B[43mdat_out\u001B[49m\n\u001B[0;32m     87\u001B[0m \u001B[38;5;28;01melif\u001B[39;00m event_mode \u001B[38;5;241m==\u001B[39m \u001B[38;5;124m'\u001B[39m\u001B[38;5;124mstacking\u001B[39m\u001B[38;5;124m'\u001B[39m:\n\u001B[0;32m     88\u001B[0m     mp4_in \u001B[38;5;241m>>\u001B[39m Mp4ToStackingEvents(threshold) \u001B[38;5;241m>>\u001B[39m progress_report \u001B[38;5;241m>>\u001B[39m dat_out\n",
      "File \u001B[1;32m~\\PycharmProjects\\idatt2900-event-reconstruction\\core\\dsl\\source\\module.py:34\u001B[0m, in \u001B[0;36mSource.__rshift__\u001B[1;34m(self, consumer)\u001B[0m\n\u001B[0;32m     33\u001B[0m \u001B[38;5;28;01mdef\u001B[39;00m \u001B[38;5;21m__rshift__\u001B[39m(\u001B[38;5;28mself\u001B[39m, consumer):\n\u001B[1;32m---> 34\u001B[0m     \u001B[38;5;28;01mreturn\u001B[39;00m \u001B[38;5;28;43mself\u001B[39;49m\u001B[38;5;241;43m.\u001B[39;49m\u001B[43mon_data_processed\u001B[49m\u001B[43m(\u001B[49m\u001B[43mconsumer\u001B[49m\u001B[43m)\u001B[49m\n",
      "File \u001B[1;32m~\\PycharmProjects\\idatt2900-event-reconstruction\\core\\dsl\\source\\module.py:28\u001B[0m, in \u001B[0;36mSource.on_data_processed\u001B[1;34m(self, consumer)\u001B[0m\n\u001B[0;32m     26\u001B[0m \u001B[38;5;28;01mif\u001B[39;00m \u001B[38;5;28missubclass\u001B[39m(\u001B[38;5;28mtype\u001B[39m(consumer), EventDispatcher):\n\u001B[0;32m     27\u001B[0m     \u001B[38;5;28mself\u001B[39m\u001B[38;5;241m.\u001B[39mmessage_dispatcher\u001B[38;5;241m.\u001B[39mjoin(consumer\u001B[38;5;241m.\u001B[39mmessage_dispatcher)\n\u001B[1;32m---> 28\u001B[0m     \u001B[38;5;28;43mself\u001B[39;49m\u001B[38;5;241;43m.\u001B[39;49m\u001B[43mmessage_dispatcher\u001B[49m\u001B[38;5;241;43m.\u001B[39;49m\u001B[43mnotify\u001B[49m\u001B[43m(\u001B[49m\u001B[43mBROADCASTER_JOINED\u001B[49m\u001B[43m)\u001B[49m\n\u001B[0;32m     29\u001B[0m     \u001B[38;5;28;01mreturn\u001B[39;00m consumer\n\u001B[0;32m     30\u001B[0m \u001B[38;5;28;01melse\u001B[39;00m:\n",
      "File \u001B[1;32m~\\PycharmProjects\\idatt2900-event-reconstruction\\core\\event\\event_broadcaster.py:21\u001B[0m, in \u001B[0;36mEventBroadcaster.notify\u001B[1;34m(self, subject, **kwargs)\u001B[0m\n\u001B[0;32m     19\u001B[0m \u001B[38;5;28mself\u001B[39m\u001B[38;5;241m.\u001B[39mdispatch_lock\u001B[38;5;241m.\u001B[39madd(subject)\n\u001B[0;32m     20\u001B[0m \u001B[38;5;28;01mfor\u001B[39;00m broadcaster \u001B[38;5;129;01min\u001B[39;00m \u001B[38;5;28mself\u001B[39m\u001B[38;5;241m.\u001B[39mnodes:\n\u001B[1;32m---> 21\u001B[0m     \u001B[43mbroadcaster\u001B[49m\u001B[38;5;241;43m.\u001B[39;49m\u001B[43mnotify\u001B[49m\u001B[43m(\u001B[49m\u001B[43msubject\u001B[49m\u001B[43m,\u001B[49m\u001B[43m \u001B[49m\u001B[38;5;241;43m*\u001B[39;49m\u001B[38;5;241;43m*\u001B[39;49m\u001B[43mkwargs\u001B[49m\u001B[43m)\u001B[49m\n\u001B[0;32m     23\u001B[0m \u001B[38;5;28mself\u001B[39m\u001B[38;5;241m.\u001B[39mdispatch_lock\u001B[38;5;241m.\u001B[39mremove(subject)\n",
      "File \u001B[1;32m~\\PycharmProjects\\idatt2900-event-reconstruction\\core\\event\\event_broadcaster.py:17\u001B[0m, in \u001B[0;36mEventBroadcaster.notify\u001B[1;34m(self, subject, **kwargs)\u001B[0m\n\u001B[0;32m     15\u001B[0m \u001B[38;5;28;01mif\u001B[39;00m callbacks \u001B[38;5;129;01mis\u001B[39;00m \u001B[38;5;129;01mnot\u001B[39;00m \u001B[38;5;28;01mNone\u001B[39;00m:\n\u001B[0;32m     16\u001B[0m     \u001B[38;5;28;01mfor\u001B[39;00m callback \u001B[38;5;129;01min\u001B[39;00m callbacks:\n\u001B[1;32m---> 17\u001B[0m         \u001B[43mcallback\u001B[49m\u001B[43m(\u001B[49m\u001B[38;5;241;43m*\u001B[39;49m\u001B[38;5;241;43m*\u001B[39;49m\u001B[43mkwargs\u001B[49m\u001B[43m)\u001B[49m\n\u001B[0;32m     19\u001B[0m \u001B[38;5;28mself\u001B[39m\u001B[38;5;241m.\u001B[39mdispatch_lock\u001B[38;5;241m.\u001B[39madd(subject)\n\u001B[0;32m     20\u001B[0m \u001B[38;5;28;01mfor\u001B[39;00m broadcaster \u001B[38;5;129;01min\u001B[39;00m \u001B[38;5;28mself\u001B[39m\u001B[38;5;241m.\u001B[39mnodes:\n",
      "File \u001B[1;32m~\\PycharmProjects\\idatt2900-event-reconstruction\\core\\dsl\\sink\\event_writer.py:18\u001B[0m, in \u001B[0;36mEventWriter.__init__.<locals>.<lambda>\u001B[1;34m()\u001B[0m\n\u001B[0;32m     15\u001B[0m \u001B[38;5;28mself\u001B[39m\u001B[38;5;241m.\u001B[39mwidth \u001B[38;5;241m=\u001B[39m \u001B[38;5;28;01mNone\u001B[39;00m\n\u001B[0;32m     17\u001B[0m \u001B[38;5;28mself\u001B[39m\u001B[38;5;241m.\u001B[39mmessage_dispatcher\u001B[38;5;241m.\u001B[39msubscribe(CLOSING, \u001B[38;5;28;01mlambda\u001B[39;00m: \u001B[38;5;28mself\u001B[39m\u001B[38;5;241m.\u001B[39mdat_writer\u001B[38;5;241m.\u001B[39mclose())\n\u001B[1;32m---> 18\u001B[0m \u001B[38;5;28mself\u001B[39m\u001B[38;5;241m.\u001B[39mmessage_dispatcher\u001B[38;5;241m.\u001B[39msubscribe(BROADCASTER_JOINED, \u001B[38;5;28;01mlambda\u001B[39;00m: \u001B[38;5;28;43mself\u001B[39;49m\u001B[38;5;241;43m.\u001B[39;49m\u001B[43mmessage_dispatcher\u001B[49m\u001B[38;5;241;43m.\u001B[39;49m\u001B[43mnotify\u001B[49m\u001B[43m(\u001B[49m\u001B[43mPIPELINE_READY\u001B[49m\u001B[43m)\u001B[49m)\n",
      "File \u001B[1;32m~\\PycharmProjects\\idatt2900-event-reconstruction\\core\\event\\event_broadcaster.py:21\u001B[0m, in \u001B[0;36mEventBroadcaster.notify\u001B[1;34m(self, subject, **kwargs)\u001B[0m\n\u001B[0;32m     19\u001B[0m \u001B[38;5;28mself\u001B[39m\u001B[38;5;241m.\u001B[39mdispatch_lock\u001B[38;5;241m.\u001B[39madd(subject)\n\u001B[0;32m     20\u001B[0m \u001B[38;5;28;01mfor\u001B[39;00m broadcaster \u001B[38;5;129;01min\u001B[39;00m \u001B[38;5;28mself\u001B[39m\u001B[38;5;241m.\u001B[39mnodes:\n\u001B[1;32m---> 21\u001B[0m     \u001B[43mbroadcaster\u001B[49m\u001B[38;5;241;43m.\u001B[39;49m\u001B[43mnotify\u001B[49m\u001B[43m(\u001B[49m\u001B[43msubject\u001B[49m\u001B[43m,\u001B[49m\u001B[43m \u001B[49m\u001B[38;5;241;43m*\u001B[39;49m\u001B[38;5;241;43m*\u001B[39;49m\u001B[43mkwargs\u001B[49m\u001B[43m)\u001B[49m\n\u001B[0;32m     23\u001B[0m \u001B[38;5;28mself\u001B[39m\u001B[38;5;241m.\u001B[39mdispatch_lock\u001B[38;5;241m.\u001B[39mremove(subject)\n",
      "File \u001B[1;32m~\\PycharmProjects\\idatt2900-event-reconstruction\\core\\event\\event_broadcaster.py:21\u001B[0m, in \u001B[0;36mEventBroadcaster.notify\u001B[1;34m(self, subject, **kwargs)\u001B[0m\n\u001B[0;32m     19\u001B[0m \u001B[38;5;28mself\u001B[39m\u001B[38;5;241m.\u001B[39mdispatch_lock\u001B[38;5;241m.\u001B[39madd(subject)\n\u001B[0;32m     20\u001B[0m \u001B[38;5;28;01mfor\u001B[39;00m broadcaster \u001B[38;5;129;01min\u001B[39;00m \u001B[38;5;28mself\u001B[39m\u001B[38;5;241m.\u001B[39mnodes:\n\u001B[1;32m---> 21\u001B[0m     \u001B[43mbroadcaster\u001B[49m\u001B[38;5;241;43m.\u001B[39;49m\u001B[43mnotify\u001B[49m\u001B[43m(\u001B[49m\u001B[43msubject\u001B[49m\u001B[43m,\u001B[49m\u001B[43m \u001B[49m\u001B[38;5;241;43m*\u001B[39;49m\u001B[38;5;241;43m*\u001B[39;49m\u001B[43mkwargs\u001B[49m\u001B[43m)\u001B[49m\n\u001B[0;32m     23\u001B[0m \u001B[38;5;28mself\u001B[39m\u001B[38;5;241m.\u001B[39mdispatch_lock\u001B[38;5;241m.\u001B[39mremove(subject)\n",
      "File \u001B[1;32m~\\PycharmProjects\\idatt2900-event-reconstruction\\core\\event\\event_broadcaster.py:17\u001B[0m, in \u001B[0;36mEventBroadcaster.notify\u001B[1;34m(self, subject, **kwargs)\u001B[0m\n\u001B[0;32m     15\u001B[0m \u001B[38;5;28;01mif\u001B[39;00m callbacks \u001B[38;5;129;01mis\u001B[39;00m \u001B[38;5;129;01mnot\u001B[39;00m \u001B[38;5;28;01mNone\u001B[39;00m:\n\u001B[0;32m     16\u001B[0m     \u001B[38;5;28;01mfor\u001B[39;00m callback \u001B[38;5;129;01min\u001B[39;00m callbacks:\n\u001B[1;32m---> 17\u001B[0m         \u001B[43mcallback\u001B[49m\u001B[43m(\u001B[49m\u001B[38;5;241;43m*\u001B[39;49m\u001B[38;5;241;43m*\u001B[39;49m\u001B[43mkwargs\u001B[49m\u001B[43m)\u001B[49m\n\u001B[0;32m     19\u001B[0m \u001B[38;5;28mself\u001B[39m\u001B[38;5;241m.\u001B[39mdispatch_lock\u001B[38;5;241m.\u001B[39madd(subject)\n\u001B[0;32m     20\u001B[0m \u001B[38;5;28;01mfor\u001B[39;00m broadcaster \u001B[38;5;129;01min\u001B[39;00m \u001B[38;5;28mself\u001B[39m\u001B[38;5;241m.\u001B[39mnodes:\n",
      "File \u001B[1;32m~\\PycharmProjects\\idatt2900-event-reconstruction\\core\\dsl\\source\\mp4_reader.py:44\u001B[0m, in \u001B[0;36mMp4Reader.iterate_frames\u001B[1;34m(self)\u001B[0m\n\u001B[0;32m     41\u001B[0m     \u001B[38;5;28;01mif\u001B[39;00m \u001B[38;5;129;01mnot\u001B[39;00m ret:\n\u001B[0;32m     42\u001B[0m         \u001B[38;5;28;01mbreak\u001B[39;00m\n\u001B[1;32m---> 44\u001B[0m     \u001B[38;5;28;43mself\u001B[39;49m\u001B[38;5;241;43m.\u001B[39;49m\u001B[43mcallback\u001B[49m\u001B[43m(\u001B[49m\u001B[43mframe\u001B[49m\u001B[43m,\u001B[49m\u001B[43m \u001B[49m\u001B[38;5;241;43m*\u001B[39;49m\u001B[38;5;241;43m*\u001B[39;49m\u001B[43mproperties\u001B[49m\u001B[43m)\u001B[49m\n\u001B[0;32m     46\u001B[0m \u001B[38;5;28mself\u001B[39m\u001B[38;5;241m.\u001B[39mmessage_dispatcher\u001B[38;5;241m.\u001B[39mnotify(CLOSING)\n",
      "File \u001B[1;32m~\\PycharmProjects\\idatt2900-event-reconstruction\\core\\dsl\\source\\module.py:19\u001B[0m, in \u001B[0;36mSource.on_data_processed.<locals>.new_callback\u001B[1;34m(data, **kwargs)\u001B[0m\n\u001B[0;32m     17\u001B[0m \u001B[38;5;28;01mtry\u001B[39;00m:\n\u001B[0;32m     18\u001B[0m     old_cb(data, \u001B[38;5;241m*\u001B[39m\u001B[38;5;241m*\u001B[39mkwargs)\n\u001B[1;32m---> 19\u001B[0m     \u001B[43mnew_cb\u001B[49m\u001B[43m(\u001B[49m\u001B[43mdata\u001B[49m\u001B[43m,\u001B[49m\u001B[43m \u001B[49m\u001B[38;5;241;43m*\u001B[39;49m\u001B[38;5;241;43m*\u001B[39;49m\u001B[43mkwargs\u001B[49m\u001B[43m)\u001B[49m\n\u001B[0;32m     20\u001B[0m \u001B[38;5;28;01mexcept\u001B[39;00m \u001B[38;5;167;01mException\u001B[39;00m:\n\u001B[0;32m     21\u001B[0m     \u001B[38;5;28mself\u001B[39m\u001B[38;5;241m.\u001B[39mmessage_dispatcher\u001B[38;5;241m.\u001B[39mnotify(CLOSING)\n",
      "File \u001B[1;32m~\\PycharmProjects\\idatt2900-event-reconstruction\\core\\dsl\\sink\\module.py:25\u001B[0m, in \u001B[0;36mSink.__call__\u001B[1;34m(self, data, **kwargs)\u001B[0m\n\u001B[0;32m     24\u001B[0m \u001B[38;5;28;01mdef\u001B[39;00m \u001B[38;5;21m__call__\u001B[39m(\u001B[38;5;28mself\u001B[39m, data, \u001B[38;5;241m*\u001B[39m\u001B[38;5;241m*\u001B[39mkwargs):\n\u001B[1;32m---> 25\u001B[0m     \u001B[38;5;28;43mself\u001B[39;49m\u001B[38;5;241;43m.\u001B[39;49m\u001B[43mprocess_data\u001B[49m\u001B[43m(\u001B[49m\u001B[43mdata\u001B[49m\u001B[43m,\u001B[49m\u001B[43m \u001B[49m\u001B[38;5;241;43m*\u001B[39;49m\u001B[38;5;241;43m*\u001B[39;49m\u001B[43mkwargs\u001B[49m\u001B[43m)\u001B[49m\n",
      "File \u001B[1;32m~\\PycharmProjects\\idatt2900-event-reconstruction\\core\\dsl\\transformer\\mp4_to_singular_events.py:31\u001B[0m, in \u001B[0;36mMp4ToSingularEvents.process_data\u001B[1;34m(self, image, **kwargs)\u001B[0m\n\u001B[0;32m     28\u001B[0m timestamp \u001B[38;5;241m=\u001B[39m (\u001B[38;5;28mself\u001B[39m\u001B[38;5;241m.\u001B[39mframe_cnr \u001B[38;5;241m/\u001B[39m \u001B[38;5;28mself\u001B[39m\u001B[38;5;241m.\u001B[39mfps) \u001B[38;5;241m*\u001B[39m \u001B[38;5;241m1e6\u001B[39m\n\u001B[0;32m     29\u001B[0m \u001B[38;5;28mself\u001B[39m\u001B[38;5;241m.\u001B[39mframe_cnr \u001B[38;5;241m+\u001B[39m\u001B[38;5;241m=\u001B[39m \u001B[38;5;241m1\u001B[39m\n\u001B[1;32m---> 31\u001B[0m new_levels \u001B[38;5;241m=\u001B[39m (np\u001B[38;5;241m.\u001B[39mmean(\u001B[43mimage\u001B[49m\u001B[43m \u001B[49m\u001B[38;5;241;43m/\u001B[39;49m\u001B[43m \u001B[49m\u001B[38;5;241;43m255\u001B[39;49m, axis\u001B[38;5;241m=\u001B[39m\u001B[38;5;241m2\u001B[39m) \u001B[38;5;241m/\u001B[39m\u001B[38;5;241m/\u001B[39m \u001B[38;5;28mself\u001B[39m\u001B[38;5;241m.\u001B[39mthreshold)\u001B[38;5;241m.\u001B[39mastype(np\u001B[38;5;241m.\u001B[39mint64)\n\u001B[0;32m     33\u001B[0m pos_cord \u001B[38;5;241m=\u001B[39m np\u001B[38;5;241m.\u001B[39margwhere(new_levels \u001B[38;5;241m>\u001B[39m \u001B[38;5;28mself\u001B[39m\u001B[38;5;241m.\u001B[39mold_levels)\n\u001B[0;32m     34\u001B[0m dec_cord \u001B[38;5;241m=\u001B[39m np\u001B[38;5;241m.\u001B[39margwhere(new_levels \u001B[38;5;241m<\u001B[39m \u001B[38;5;28mself\u001B[39m\u001B[38;5;241m.\u001B[39mold_levels)\n",
      "\u001B[1;31mKeyboardInterrupt\u001B[0m: "
     ]
    }
   ],
   "source": [
    "mp4_input_path = mp4['formula1']\n",
    "dat_output_path = './samples/decon/my-formula1-decon.dat'\n",
    "threshold = 0.07\n",
    "event_mode = 'singular'\n",
    "\n",
    "%run mp4_to_dat.py -i $mp4_input_path -o $dat_output_path -et $threshold -em $event_mode"
   ],
   "metadata": {
    "collapsed": false,
    "pycharm": {
     "name": "#%%\n"
    }
   }
  }
 ],
 "metadata": {
  "kernelspec": {
   "display_name": "Python 3 (ipykernel)",
   "language": "python",
   "name": "python3"
  },
  "language_info": {
   "codemirror_mode": {
    "name": "ipython",
    "version": 3
   },
   "file_extension": ".py",
   "mimetype": "text/x-python",
   "name": "python",
   "nbconvert_exporter": "python",
   "pygments_lexer": "ipython3",
   "version": "3.8.10"
  }
 },
 "nbformat": 4,
 "nbformat_minor": 1
}