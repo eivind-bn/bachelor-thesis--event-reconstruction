{
 "cells": [
  {
   "cell_type": "code",
   "execution_count": 2,
   "outputs": [],
   "source": [
    "import metavision_core.utils.samples as samples\n",
    "\n",
    "samples.get_all_samples('samples/events/')\n",
    "\n",
    "\n",
    "def event(filename, suffix='raw'):\n",
    "    return f'samples/events/{filename}.{suffix}'\n",
    "\n",
    "\n",
    "def mp4(filename):\n",
    "    return f'samples/mp4/{filename}.mp4'\n",
    "\n",
    "\n",
    "def recon(filename):\n",
    "    return f'samples/recon/{filename}.mp4'\n",
    "\n",
    "\n",
    "def decon(filename):\n",
    "    return f'samples/decon/{filename}.dat'"
   ],
   "metadata": {
    "collapsed": false,
    "pycharm": {
     "name": "#%%\n"
    }
   }
  },
  {
   "cell_type": "code",
   "execution_count": 4,
   "outputs": [
    {
     "name": "stdout",
     "output_type": "stream",
     "text": [
      "hello\n",
      "hello\n",
      "hello\n",
      "hello\n",
      "hello\n",
      "hello\n",
      "hello\n",
      "hello\n",
      "hello\n",
      "hello\n",
      "hello\n",
      "hello\n",
      "hello\n",
      "hello\n",
      "hello\n",
      "hello\n"
     ]
    },
    {
     "ename": "error",
     "evalue": "OpenCV(4.5.5) D:\\a\\opencv-python\\opencv-python\\opencv\\modules\\highgui\\src\\window_w32.cpp:1261: error: (-27:Null pointer) NULL window: 'arnold-arm-wrestle' in function 'cvDestroyWindow'\n",
     "output_type": "error",
     "traceback": [
      "\u001B[1;31m---------------------------------------------------------------------------\u001B[0m",
      "\u001B[1;31merror\u001B[0m                                     Traceback (most recent call last)",
      "Input \u001B[1;32mIn [4]\u001B[0m, in \u001B[0;36m<cell line: 19>\u001B[1;34m()\u001B[0m\n\u001B[0;32m     16\u001B[0m frame_gen \u001B[38;5;241m=\u001B[39m FramesByTimestamps()\n\u001B[0;32m     17\u001B[0m window \u001B[38;5;241m=\u001B[39m Window(\u001B[38;5;124m'\u001B[39m\u001B[38;5;124marnold-arm-wrestle\u001B[39m\u001B[38;5;124m'\u001B[39m)\n\u001B[1;32m---> 19\u001B[0m \u001B[43mmp4_source\u001B[49m\u001B[43m \u001B[49m\u001B[38;5;241;43m>>\u001B[39;49m\u001B[43m \u001B[49m\u001B[43msliding_events\u001B[49m\u001B[43m \u001B[49m\u001B[38;5;241;43m>>\u001B[39;49m\u001B[43m \u001B[49m\u001B[43m(\u001B[49m\u001B[38;5;28;43;01mlambda\u001B[39;49;00m\u001B[43m \u001B[49m\u001B[43md\u001B[49m\u001B[43m:\u001B[49m\u001B[43m \u001B[49m\u001B[38;5;28;43mprint\u001B[39;49m\u001B[43m(\u001B[49m\u001B[38;5;124;43m'\u001B[39;49m\u001B[38;5;124;43mhello\u001B[39;49m\u001B[38;5;124;43m'\u001B[39;49m\u001B[43m)\u001B[49m\u001B[43m)\u001B[49m\u001B[43m \u001B[49m\u001B[38;5;241;43m>>\u001B[39;49m\u001B[43m \u001B[49m\u001B[43mframe_gen\u001B[49m\u001B[43m \u001B[49m\u001B[38;5;241;43m>>\u001B[39;49m\u001B[43m \u001B[49m\u001B[43mwindow\u001B[49m\n",
      "File \u001B[1;32m~\\PycharmProjects\\idatt2900-event-reconstruction\\core\\source\\module.py:30\u001B[0m, in \u001B[0;36mSource.__rshift__\u001B[1;34m(self, consumer)\u001B[0m\n\u001B[0;32m     29\u001B[0m \u001B[38;5;28;01mdef\u001B[39;00m \u001B[38;5;21m__rshift__\u001B[39m(\u001B[38;5;28mself\u001B[39m, consumer):\n\u001B[1;32m---> 30\u001B[0m     \u001B[38;5;28;01mreturn\u001B[39;00m \u001B[38;5;28;43mself\u001B[39;49m\u001B[38;5;241;43m.\u001B[39;49m\u001B[43mon_data_processed\u001B[49m\u001B[43m(\u001B[49m\u001B[43mconsumer\u001B[49m\u001B[43m)\u001B[49m\n",
      "File \u001B[1;32m~\\PycharmProjects\\idatt2900-event-reconstruction\\core\\source\\module.py:24\u001B[0m, in \u001B[0;36mSource.on_data_processed\u001B[1;34m(self, consumer)\u001B[0m\n\u001B[0;32m     22\u001B[0m \u001B[38;5;28;01mif\u001B[39;00m \u001B[38;5;28missubclass\u001B[39m(\u001B[38;5;28mtype\u001B[39m(consumer), EventDispatcher):\n\u001B[0;32m     23\u001B[0m     \u001B[38;5;28mself\u001B[39m\u001B[38;5;241m.\u001B[39mmsg_dispatcher\u001B[38;5;241m.\u001B[39mjoin(consumer\u001B[38;5;241m.\u001B[39mmsg_dispatcher)\n\u001B[1;32m---> 24\u001B[0m     \u001B[38;5;28;43mself\u001B[39;49m\u001B[38;5;241;43m.\u001B[39;49m\u001B[43mmsg_dispatcher\u001B[49m\u001B[38;5;241;43m.\u001B[39;49m\u001B[43mnotify\u001B[49m\u001B[43m(\u001B[49m\u001B[43mBROADCASTER_JOINED\u001B[49m\u001B[43m)\u001B[49m\n\u001B[0;32m     25\u001B[0m     \u001B[38;5;28;01mreturn\u001B[39;00m consumer\n\u001B[0;32m     26\u001B[0m \u001B[38;5;28;01melse\u001B[39;00m:\n",
      "File \u001B[1;32m~\\PycharmProjects\\idatt2900-event-reconstruction\\core\\event\\event_broadcaster.py:21\u001B[0m, in \u001B[0;36mEventBroadcaster.notify\u001B[1;34m(self, subject, **kwargs)\u001B[0m\n\u001B[0;32m     19\u001B[0m \u001B[38;5;28mself\u001B[39m\u001B[38;5;241m.\u001B[39mdispatch_lock\u001B[38;5;241m.\u001B[39madd(subject)\n\u001B[0;32m     20\u001B[0m \u001B[38;5;28;01mfor\u001B[39;00m broadcaster \u001B[38;5;129;01min\u001B[39;00m \u001B[38;5;28mself\u001B[39m\u001B[38;5;241m.\u001B[39mnodes:\n\u001B[1;32m---> 21\u001B[0m     \u001B[43mbroadcaster\u001B[49m\u001B[38;5;241;43m.\u001B[39;49m\u001B[43mnotify\u001B[49m\u001B[43m(\u001B[49m\u001B[43msubject\u001B[49m\u001B[43m,\u001B[49m\u001B[43m \u001B[49m\u001B[38;5;241;43m*\u001B[39;49m\u001B[38;5;241;43m*\u001B[39;49m\u001B[43mkwargs\u001B[49m\u001B[43m)\u001B[49m\n\u001B[0;32m     23\u001B[0m \u001B[38;5;28mself\u001B[39m\u001B[38;5;241m.\u001B[39mdispatch_lock\u001B[38;5;241m.\u001B[39mremove(subject)\n",
      "File \u001B[1;32m~\\PycharmProjects\\idatt2900-event-reconstruction\\core\\event\\event_broadcaster.py:17\u001B[0m, in \u001B[0;36mEventBroadcaster.notify\u001B[1;34m(self, subject, **kwargs)\u001B[0m\n\u001B[0;32m     15\u001B[0m \u001B[38;5;28;01mif\u001B[39;00m callbacks \u001B[38;5;129;01mis\u001B[39;00m \u001B[38;5;129;01mnot\u001B[39;00m \u001B[38;5;28;01mNone\u001B[39;00m:\n\u001B[0;32m     16\u001B[0m     \u001B[38;5;28;01mfor\u001B[39;00m callback \u001B[38;5;129;01min\u001B[39;00m callbacks:\n\u001B[1;32m---> 17\u001B[0m         \u001B[43mcallback\u001B[49m\u001B[43m(\u001B[49m\u001B[38;5;241;43m*\u001B[39;49m\u001B[38;5;241;43m*\u001B[39;49m\u001B[43mkwargs\u001B[49m\u001B[43m)\u001B[49m\n\u001B[0;32m     19\u001B[0m \u001B[38;5;28mself\u001B[39m\u001B[38;5;241m.\u001B[39mdispatch_lock\u001B[38;5;241m.\u001B[39madd(subject)\n\u001B[0;32m     20\u001B[0m \u001B[38;5;28;01mfor\u001B[39;00m broadcaster \u001B[38;5;129;01min\u001B[39;00m \u001B[38;5;28mself\u001B[39m\u001B[38;5;241m.\u001B[39mnodes:\n",
      "File \u001B[1;32m~\\PycharmProjects\\idatt2900-event-reconstruction\\core\\sink\\window.py:28\u001B[0m, in \u001B[0;36mWindow.__init__.<locals>.<lambda>\u001B[1;34m()\u001B[0m\n\u001B[0;32m     26\u001B[0m \u001B[38;5;28mself\u001B[39m\u001B[38;5;241m.\u001B[39mmsg_dispatcher\u001B[38;5;241m.\u001B[39msubscribe(OPENING, \u001B[38;5;28;01mlambda\u001B[39;00m: cv2\u001B[38;5;241m.\u001B[39mnamedWindow(title))\n\u001B[0;32m     27\u001B[0m \u001B[38;5;28mself\u001B[39m\u001B[38;5;241m.\u001B[39mmsg_dispatcher\u001B[38;5;241m.\u001B[39msubscribe(CLOSING, \u001B[38;5;28;01mlambda\u001B[39;00m: cv2\u001B[38;5;241m.\u001B[39mdestroyWindow(title))\n\u001B[1;32m---> 28\u001B[0m \u001B[38;5;28mself\u001B[39m\u001B[38;5;241m.\u001B[39mmsg_dispatcher\u001B[38;5;241m.\u001B[39msubscribe(BROADCASTER_JOINED, \u001B[38;5;28;01mlambda\u001B[39;00m: \u001B[38;5;28;43mself\u001B[39;49m\u001B[38;5;241;43m.\u001B[39;49m\u001B[43mmsg_dispatcher\u001B[49m\u001B[38;5;241;43m.\u001B[39;49m\u001B[43mnotify\u001B[49m\u001B[43m(\u001B[49m\u001B[43mOPENING\u001B[49m\u001B[43m)\u001B[49m)\n",
      "File \u001B[1;32m~\\PycharmProjects\\idatt2900-event-reconstruction\\core\\event\\event_broadcaster.py:21\u001B[0m, in \u001B[0;36mEventBroadcaster.notify\u001B[1;34m(self, subject, **kwargs)\u001B[0m\n\u001B[0;32m     19\u001B[0m \u001B[38;5;28mself\u001B[39m\u001B[38;5;241m.\u001B[39mdispatch_lock\u001B[38;5;241m.\u001B[39madd(subject)\n\u001B[0;32m     20\u001B[0m \u001B[38;5;28;01mfor\u001B[39;00m broadcaster \u001B[38;5;129;01min\u001B[39;00m \u001B[38;5;28mself\u001B[39m\u001B[38;5;241m.\u001B[39mnodes:\n\u001B[1;32m---> 21\u001B[0m     \u001B[43mbroadcaster\u001B[49m\u001B[38;5;241;43m.\u001B[39;49m\u001B[43mnotify\u001B[49m\u001B[43m(\u001B[49m\u001B[43msubject\u001B[49m\u001B[43m,\u001B[49m\u001B[43m \u001B[49m\u001B[38;5;241;43m*\u001B[39;49m\u001B[38;5;241;43m*\u001B[39;49m\u001B[43mkwargs\u001B[49m\u001B[43m)\u001B[49m\n\u001B[0;32m     23\u001B[0m \u001B[38;5;28mself\u001B[39m\u001B[38;5;241m.\u001B[39mdispatch_lock\u001B[38;5;241m.\u001B[39mremove(subject)\n",
      "File \u001B[1;32m~\\PycharmProjects\\idatt2900-event-reconstruction\\core\\event\\event_broadcaster.py:21\u001B[0m, in \u001B[0;36mEventBroadcaster.notify\u001B[1;34m(self, subject, **kwargs)\u001B[0m\n\u001B[0;32m     19\u001B[0m \u001B[38;5;28mself\u001B[39m\u001B[38;5;241m.\u001B[39mdispatch_lock\u001B[38;5;241m.\u001B[39madd(subject)\n\u001B[0;32m     20\u001B[0m \u001B[38;5;28;01mfor\u001B[39;00m broadcaster \u001B[38;5;129;01min\u001B[39;00m \u001B[38;5;28mself\u001B[39m\u001B[38;5;241m.\u001B[39mnodes:\n\u001B[1;32m---> 21\u001B[0m     \u001B[43mbroadcaster\u001B[49m\u001B[38;5;241;43m.\u001B[39;49m\u001B[43mnotify\u001B[49m\u001B[43m(\u001B[49m\u001B[43msubject\u001B[49m\u001B[43m,\u001B[49m\u001B[43m \u001B[49m\u001B[38;5;241;43m*\u001B[39;49m\u001B[38;5;241;43m*\u001B[39;49m\u001B[43mkwargs\u001B[49m\u001B[43m)\u001B[49m\n\u001B[0;32m     23\u001B[0m \u001B[38;5;28mself\u001B[39m\u001B[38;5;241m.\u001B[39mdispatch_lock\u001B[38;5;241m.\u001B[39mremove(subject)\n",
      "File \u001B[1;32m~\\PycharmProjects\\idatt2900-event-reconstruction\\core\\event\\event_broadcaster.py:21\u001B[0m, in \u001B[0;36mEventBroadcaster.notify\u001B[1;34m(self, subject, **kwargs)\u001B[0m\n\u001B[0;32m     19\u001B[0m \u001B[38;5;28mself\u001B[39m\u001B[38;5;241m.\u001B[39mdispatch_lock\u001B[38;5;241m.\u001B[39madd(subject)\n\u001B[0;32m     20\u001B[0m \u001B[38;5;28;01mfor\u001B[39;00m broadcaster \u001B[38;5;129;01min\u001B[39;00m \u001B[38;5;28mself\u001B[39m\u001B[38;5;241m.\u001B[39mnodes:\n\u001B[1;32m---> 21\u001B[0m     \u001B[43mbroadcaster\u001B[49m\u001B[38;5;241;43m.\u001B[39;49m\u001B[43mnotify\u001B[49m\u001B[43m(\u001B[49m\u001B[43msubject\u001B[49m\u001B[43m,\u001B[49m\u001B[43m \u001B[49m\u001B[38;5;241;43m*\u001B[39;49m\u001B[38;5;241;43m*\u001B[39;49m\u001B[43mkwargs\u001B[49m\u001B[43m)\u001B[49m\n\u001B[0;32m     23\u001B[0m \u001B[38;5;28mself\u001B[39m\u001B[38;5;241m.\u001B[39mdispatch_lock\u001B[38;5;241m.\u001B[39mremove(subject)\n",
      "File \u001B[1;32m~\\PycharmProjects\\idatt2900-event-reconstruction\\core\\event\\event_broadcaster.py:17\u001B[0m, in \u001B[0;36mEventBroadcaster.notify\u001B[1;34m(self, subject, **kwargs)\u001B[0m\n\u001B[0;32m     15\u001B[0m \u001B[38;5;28;01mif\u001B[39;00m callbacks \u001B[38;5;129;01mis\u001B[39;00m \u001B[38;5;129;01mnot\u001B[39;00m \u001B[38;5;28;01mNone\u001B[39;00m:\n\u001B[0;32m     16\u001B[0m     \u001B[38;5;28;01mfor\u001B[39;00m callback \u001B[38;5;129;01min\u001B[39;00m callbacks:\n\u001B[1;32m---> 17\u001B[0m         \u001B[43mcallback\u001B[49m\u001B[43m(\u001B[49m\u001B[38;5;241;43m*\u001B[39;49m\u001B[38;5;241;43m*\u001B[39;49m\u001B[43mkwargs\u001B[49m\u001B[43m)\u001B[49m\n\u001B[0;32m     19\u001B[0m \u001B[38;5;28mself\u001B[39m\u001B[38;5;241m.\u001B[39mdispatch_lock\u001B[38;5;241m.\u001B[39madd(subject)\n\u001B[0;32m     20\u001B[0m \u001B[38;5;28;01mfor\u001B[39;00m broadcaster \u001B[38;5;129;01min\u001B[39;00m \u001B[38;5;28mself\u001B[39m\u001B[38;5;241m.\u001B[39mnodes:\n",
      "File \u001B[1;32m~\\PycharmProjects\\idatt2900-event-reconstruction\\core\\source\\mp4_reader.py:37\u001B[0m, in \u001B[0;36mMp4Reader.iterate_frames\u001B[1;34m(self)\u001B[0m\n\u001B[0;32m     34\u001B[0m     \u001B[38;5;28;01mif\u001B[39;00m \u001B[38;5;129;01mnot\u001B[39;00m ret:\n\u001B[0;32m     35\u001B[0m         \u001B[38;5;28;01mbreak\u001B[39;00m\n\u001B[1;32m---> 37\u001B[0m     \u001B[38;5;28;43mself\u001B[39;49m\u001B[38;5;241;43m.\u001B[39;49m\u001B[43mcallback\u001B[49m\u001B[43m(\u001B[49m\u001B[43mframe\u001B[49m\u001B[43m)\u001B[49m\n\u001B[0;32m     39\u001B[0m \u001B[38;5;28mself\u001B[39m\u001B[38;5;241m.\u001B[39mmsg_dispatcher\u001B[38;5;241m.\u001B[39mnotify(CLOSING)\n",
      "File \u001B[1;32m~\\PycharmProjects\\idatt2900-event-reconstruction\\core\\source\\module.py:18\u001B[0m, in \u001B[0;36mSource.on_data_processed.<locals>.new_callback\u001B[1;34m(data, **kwargs)\u001B[0m\n\u001B[0;32m     16\u001B[0m \u001B[38;5;28;01mdef\u001B[39;00m \u001B[38;5;21mnew_callback\u001B[39m(data, \u001B[38;5;241m*\u001B[39m\u001B[38;5;241m*\u001B[39mkwargs):\n\u001B[0;32m     17\u001B[0m     old_cb(data, \u001B[38;5;241m*\u001B[39m\u001B[38;5;241m*\u001B[39mkwargs)\n\u001B[1;32m---> 18\u001B[0m     \u001B[43mnew_cb\u001B[49m\u001B[43m(\u001B[49m\u001B[43mdata\u001B[49m\u001B[43m,\u001B[49m\u001B[43m \u001B[49m\u001B[38;5;241;43m*\u001B[39;49m\u001B[38;5;241;43m*\u001B[39;49m\u001B[43mkwargs\u001B[49m\u001B[43m)\u001B[49m\n",
      "File \u001B[1;32m~\\PycharmProjects\\idatt2900-event-reconstruction\\core\\sink\\module.py:25\u001B[0m, in \u001B[0;36mSink.__call__\u001B[1;34m(self, data, **kwargs)\u001B[0m\n\u001B[0;32m     24\u001B[0m \u001B[38;5;28;01mdef\u001B[39;00m \u001B[38;5;21m__call__\u001B[39m(\u001B[38;5;28mself\u001B[39m, data, \u001B[38;5;241m*\u001B[39m\u001B[38;5;241m*\u001B[39mkwargs):\n\u001B[1;32m---> 25\u001B[0m     \u001B[38;5;28;43mself\u001B[39;49m\u001B[38;5;241;43m.\u001B[39;49m\u001B[43mprocess_data\u001B[49m\u001B[43m(\u001B[49m\u001B[43mdata\u001B[49m\u001B[43m,\u001B[49m\u001B[43m \u001B[49m\u001B[38;5;241;43m*\u001B[39;49m\u001B[38;5;241;43m*\u001B[39;49m\u001B[43mkwargs\u001B[49m\u001B[43m)\u001B[49m\n",
      "File \u001B[1;32m~\\PycharmProjects\\idatt2900-event-reconstruction\\core\\transformer\\mp4_to_sliding_events.py:50\u001B[0m, in \u001B[0;36mMp4ToSlidingEvents.process_data\u001B[1;34m(self, image, **kwargs)\u001B[0m\n\u001B[0;32m     47\u001B[0m events \u001B[38;5;241m=\u001B[39m np\u001B[38;5;241m.\u001B[39mcolumn_stack([events, np\u001B[38;5;241m.\u001B[39mfull((events\u001B[38;5;241m.\u001B[39mshape[\u001B[38;5;241m0\u001B[39m],), timestamp, dtype\u001B[38;5;241m=\u001B[39mnp\u001B[38;5;241m.\u001B[39mint64)])\n\u001B[0;32m     48\u001B[0m events \u001B[38;5;241m=\u001B[39m records\u001B[38;5;241m.\u001B[39mfromarrays(events\u001B[38;5;241m.\u001B[39mT, dtype\u001B[38;5;241m=\u001B[39m\u001B[38;5;28mself\u001B[39m\u001B[38;5;241m.\u001B[39mevent_dtype)\n\u001B[1;32m---> 50\u001B[0m \u001B[38;5;28;43mself\u001B[39;49m\u001B[38;5;241;43m.\u001B[39;49m\u001B[43mcallback\u001B[49m\u001B[43m(\u001B[49m\u001B[43mevents\u001B[49m\u001B[43m,\u001B[49m\u001B[43m \u001B[49m\u001B[38;5;241;43m*\u001B[39;49m\u001B[38;5;241;43m*\u001B[39;49m\u001B[43mkwargs\u001B[49m\u001B[43m)\u001B[49m\n",
      "File \u001B[1;32m~\\PycharmProjects\\idatt2900-event-reconstruction\\core\\source\\module.py:18\u001B[0m, in \u001B[0;36mSource.on_data_processed.<locals>.new_callback\u001B[1;34m(data, **kwargs)\u001B[0m\n\u001B[0;32m     16\u001B[0m \u001B[38;5;28;01mdef\u001B[39;00m \u001B[38;5;21mnew_callback\u001B[39m(data, \u001B[38;5;241m*\u001B[39m\u001B[38;5;241m*\u001B[39mkwargs):\n\u001B[0;32m     17\u001B[0m     old_cb(data, \u001B[38;5;241m*\u001B[39m\u001B[38;5;241m*\u001B[39mkwargs)\n\u001B[1;32m---> 18\u001B[0m     \u001B[43mnew_cb\u001B[49m\u001B[43m(\u001B[49m\u001B[43mdata\u001B[49m\u001B[43m,\u001B[49m\u001B[43m \u001B[49m\u001B[38;5;241;43m*\u001B[39;49m\u001B[38;5;241;43m*\u001B[39;49m\u001B[43mkwargs\u001B[49m\u001B[43m)\u001B[49m\n",
      "File \u001B[1;32m~\\PycharmProjects\\idatt2900-event-reconstruction\\core\\sink\\module.py:25\u001B[0m, in \u001B[0;36mSink.__call__\u001B[1;34m(self, data, **kwargs)\u001B[0m\n\u001B[0;32m     24\u001B[0m \u001B[38;5;28;01mdef\u001B[39;00m \u001B[38;5;21m__call__\u001B[39m(\u001B[38;5;28mself\u001B[39m, data, \u001B[38;5;241m*\u001B[39m\u001B[38;5;241m*\u001B[39mkwargs):\n\u001B[1;32m---> 25\u001B[0m     \u001B[38;5;28;43mself\u001B[39;49m\u001B[38;5;241;43m.\u001B[39;49m\u001B[43mprocess_data\u001B[49m\u001B[43m(\u001B[49m\u001B[43mdata\u001B[49m\u001B[43m,\u001B[49m\u001B[43m \u001B[49m\u001B[38;5;241;43m*\u001B[39;49m\u001B[38;5;241;43m*\u001B[39;49m\u001B[43mkwargs\u001B[49m\u001B[43m)\u001B[49m\n",
      "File \u001B[1;32m~\\PycharmProjects\\idatt2900-event-reconstruction\\core\\transformer\\frames_by_timestamps.py:40\u001B[0m, in \u001B[0;36mFramesByTimestamps.process_data\u001B[1;34m(self, events, **kwargs)\u001B[0m\n\u001B[0;32m     37\u001B[0m \u001B[38;5;28mself\u001B[39m\u001B[38;5;241m.\u001B[39mframe_buffer[yi[ones], xi[ones]] \u001B[38;5;241m=\u001B[39m \u001B[38;5;28mself\u001B[39m\u001B[38;5;241m.\u001B[39mpos_color\n\u001B[0;32m     39\u001B[0m \u001B[38;5;28;01mif\u001B[39;00m frame\u001B[38;5;241m.\u001B[39msize \u001B[38;5;241m<\u001B[39m events\u001B[38;5;241m.\u001B[39msize:\n\u001B[1;32m---> 40\u001B[0m     \u001B[38;5;28;43mself\u001B[39;49m\u001B[38;5;241;43m.\u001B[39;49m\u001B[43mcallback\u001B[49m\u001B[43m(\u001B[49m\u001B[38;5;28;43mself\u001B[39;49m\u001B[38;5;241;43m.\u001B[39;49m\u001B[43mframe_buffer\u001B[49m\u001B[43m,\u001B[49m\u001B[43m \u001B[49m\u001B[38;5;241;43m*\u001B[39;49m\u001B[38;5;241;43m*\u001B[39;49m\u001B[43mkwargs\u001B[49m\u001B[43m)\u001B[49m\n\u001B[0;32m     41\u001B[0m     \u001B[38;5;28mself\u001B[39m\u001B[38;5;241m.\u001B[39mframe_buffer[:, :] \u001B[38;5;241m=\u001B[39m \u001B[38;5;28mself\u001B[39m\u001B[38;5;241m.\u001B[39mvoid_color\n\u001B[0;32m     43\u001B[0m     \u001B[38;5;28mself\u001B[39m\u001B[38;5;241m.\u001B[39mt_pointer \u001B[38;5;241m=\u001B[39m \u001B[38;5;28mself\u001B[39m\u001B[38;5;241m.\u001B[39mframe_cntr \u001B[38;5;241m*\u001B[39m \u001B[38;5;28mself\u001B[39m\u001B[38;5;241m.\u001B[39mframe_period_us\n",
      "File \u001B[1;32m~\\PycharmProjects\\idatt2900-event-reconstruction\\core\\source\\module.py:18\u001B[0m, in \u001B[0;36mSource.on_data_processed.<locals>.new_callback\u001B[1;34m(data, **kwargs)\u001B[0m\n\u001B[0;32m     16\u001B[0m \u001B[38;5;28;01mdef\u001B[39;00m \u001B[38;5;21mnew_callback\u001B[39m(data, \u001B[38;5;241m*\u001B[39m\u001B[38;5;241m*\u001B[39mkwargs):\n\u001B[0;32m     17\u001B[0m     old_cb(data, \u001B[38;5;241m*\u001B[39m\u001B[38;5;241m*\u001B[39mkwargs)\n\u001B[1;32m---> 18\u001B[0m     \u001B[43mnew_cb\u001B[49m\u001B[43m(\u001B[49m\u001B[43mdata\u001B[49m\u001B[43m,\u001B[49m\u001B[43m \u001B[49m\u001B[38;5;241;43m*\u001B[39;49m\u001B[38;5;241;43m*\u001B[39;49m\u001B[43mkwargs\u001B[49m\u001B[43m)\u001B[49m\n",
      "File \u001B[1;32m~\\PycharmProjects\\idatt2900-event-reconstruction\\core\\sink\\module.py:25\u001B[0m, in \u001B[0;36mSink.__call__\u001B[1;34m(self, data, **kwargs)\u001B[0m\n\u001B[0;32m     24\u001B[0m \u001B[38;5;28;01mdef\u001B[39;00m \u001B[38;5;21m__call__\u001B[39m(\u001B[38;5;28mself\u001B[39m, data, \u001B[38;5;241m*\u001B[39m\u001B[38;5;241m*\u001B[39mkwargs):\n\u001B[1;32m---> 25\u001B[0m     \u001B[38;5;28;43mself\u001B[39;49m\u001B[38;5;241;43m.\u001B[39;49m\u001B[43mprocess_data\u001B[49m\u001B[43m(\u001B[49m\u001B[43mdata\u001B[49m\u001B[43m,\u001B[49m\u001B[43m \u001B[49m\u001B[38;5;241;43m*\u001B[39;49m\u001B[38;5;241;43m*\u001B[39;49m\u001B[43mkwargs\u001B[49m\u001B[43m)\u001B[49m\n",
      "File \u001B[1;32m~\\PycharmProjects\\idatt2900-event-reconstruction\\core\\sink\\window.py:42\u001B[0m, in \u001B[0;36mWindow.process_data\u001B[1;34m(self, image, **kwargs)\u001B[0m\n\u001B[0;32m     40\u001B[0m is_visible \u001B[38;5;241m=\u001B[39m cv2\u001B[38;5;241m.\u001B[39mgetWindowProperty(\u001B[38;5;28mself\u001B[39m\u001B[38;5;241m.\u001B[39mtitle, cv2\u001B[38;5;241m.\u001B[39mWND_PROP_VISIBLE) \u001B[38;5;241m==\u001B[39m \u001B[38;5;241m1\u001B[39m\n\u001B[0;32m     41\u001B[0m \u001B[38;5;28;01mif\u001B[39;00m \u001B[38;5;129;01mnot\u001B[39;00m is_visible:\n\u001B[1;32m---> 42\u001B[0m     \u001B[38;5;28;43mself\u001B[39;49m\u001B[38;5;241;43m.\u001B[39;49m\u001B[43mmsg_dispatcher\u001B[49m\u001B[38;5;241;43m.\u001B[39;49m\u001B[43mnotify\u001B[49m\u001B[43m(\u001B[49m\u001B[43mCLOSING\u001B[49m\u001B[43m)\u001B[49m\n\u001B[0;32m     43\u001B[0m     \u001B[38;5;28;01mreturn\u001B[39;00m\n\u001B[0;32m     45\u001B[0m cv2\u001B[38;5;241m.\u001B[39mimshow(\u001B[38;5;28mself\u001B[39m\u001B[38;5;241m.\u001B[39mtitle, image)\n",
      "File \u001B[1;32m~\\PycharmProjects\\idatt2900-event-reconstruction\\core\\event\\event_broadcaster.py:17\u001B[0m, in \u001B[0;36mEventBroadcaster.notify\u001B[1;34m(self, subject, **kwargs)\u001B[0m\n\u001B[0;32m     15\u001B[0m \u001B[38;5;28;01mif\u001B[39;00m callbacks \u001B[38;5;129;01mis\u001B[39;00m \u001B[38;5;129;01mnot\u001B[39;00m \u001B[38;5;28;01mNone\u001B[39;00m:\n\u001B[0;32m     16\u001B[0m     \u001B[38;5;28;01mfor\u001B[39;00m callback \u001B[38;5;129;01min\u001B[39;00m callbacks:\n\u001B[1;32m---> 17\u001B[0m         \u001B[43mcallback\u001B[49m\u001B[43m(\u001B[49m\u001B[38;5;241;43m*\u001B[39;49m\u001B[38;5;241;43m*\u001B[39;49m\u001B[43mkwargs\u001B[49m\u001B[43m)\u001B[49m\n\u001B[0;32m     19\u001B[0m \u001B[38;5;28mself\u001B[39m\u001B[38;5;241m.\u001B[39mdispatch_lock\u001B[38;5;241m.\u001B[39madd(subject)\n\u001B[0;32m     20\u001B[0m \u001B[38;5;28;01mfor\u001B[39;00m broadcaster \u001B[38;5;129;01min\u001B[39;00m \u001B[38;5;28mself\u001B[39m\u001B[38;5;241m.\u001B[39mnodes:\n",
      "File \u001B[1;32m~\\PycharmProjects\\idatt2900-event-reconstruction\\core\\sink\\window.py:27\u001B[0m, in \u001B[0;36mWindow.__init__.<locals>.<lambda>\u001B[1;34m()\u001B[0m\n\u001B[0;32m     24\u001B[0m \u001B[38;5;28mself\u001B[39m\u001B[38;5;241m.\u001B[39mneg_color \u001B[38;5;241m=\u001B[39m neg_color\n\u001B[0;32m     26\u001B[0m \u001B[38;5;28mself\u001B[39m\u001B[38;5;241m.\u001B[39mmsg_dispatcher\u001B[38;5;241m.\u001B[39msubscribe(OPENING, \u001B[38;5;28;01mlambda\u001B[39;00m: cv2\u001B[38;5;241m.\u001B[39mnamedWindow(title))\n\u001B[1;32m---> 27\u001B[0m \u001B[38;5;28mself\u001B[39m\u001B[38;5;241m.\u001B[39mmsg_dispatcher\u001B[38;5;241m.\u001B[39msubscribe(CLOSING, \u001B[38;5;28;01mlambda\u001B[39;00m: \u001B[43mcv2\u001B[49m\u001B[38;5;241;43m.\u001B[39;49m\u001B[43mdestroyWindow\u001B[49m\u001B[43m(\u001B[49m\u001B[43mtitle\u001B[49m\u001B[43m)\u001B[49m)\n\u001B[0;32m     28\u001B[0m \u001B[38;5;28mself\u001B[39m\u001B[38;5;241m.\u001B[39mmsg_dispatcher\u001B[38;5;241m.\u001B[39msubscribe(BROADCASTER_JOINED, \u001B[38;5;28;01mlambda\u001B[39;00m: \u001B[38;5;28mself\u001B[39m\u001B[38;5;241m.\u001B[39mmsg_dispatcher\u001B[38;5;241m.\u001B[39mnotify(OPENING))\n",
      "\u001B[1;31merror\u001B[0m: OpenCV(4.5.5) D:\\a\\opencv-python\\opencv-python\\opencv\\modules\\highgui\\src\\window_w32.cpp:1261: error: (-27:Null pointer) NULL window: 'arnold-arm-wrestle' in function 'cvDestroyWindow'\n"
     ]
    }
   ],
   "source": [
    "from core.transformer.mp4_to_sliding_events import Mp4ToSlidingEvents\n",
    "from core.transformer.mp4_to_stacking_events import Mp4ToStackingEvents\n",
    "from core.transformer.mp4_to_singular_events import Mp4ToSingularEvents\n",
    "from core.transformer.frames_by_event_batches import EventBatchToFrames\n",
    "from core.sink.event_writer import EventWriter\n",
    "from core.transformer.frames_by_timestamps import FramesByTimestamps\n",
    "from core.transformer.event_to_intensity_predictor import AsymptoticIntensityPredictor\n",
    "from core.transformer.batch_throughput_limiter import BSync\n",
    "from core.source.mp4_reader import Mp4Reader\n",
    "from core.sink.window import Window\n",
    "from core.source.events_reader import EventReader\n",
    "\n",
    "\n",
    "mp4_source = Mp4Reader(mp4('arnold-arm-wrestle'))\n",
    "sliding_events = Mp4ToSlidingEvents(0.01)\n",
    "frame_gen = FramesByTimestamps()\n",
    "window = Window('arnold-arm-wrestle')\n",
    "\n",
    "mp4_source >> sliding_events >> (lambda d: print('hello')) >> frame_gen >> window"
   ],
   "metadata": {
    "collapsed": false,
    "pycharm": {
     "name": "#%%\n"
    }
   }
  },
  {
   "cell_type": "code",
   "execution_count": null,
   "outputs": [],
   "source": [],
   "metadata": {
    "collapsed": false,
    "pycharm": {
     "name": "#%%\n"
    }
   }
  }
 ],
 "metadata": {
  "kernelspec": {
   "display_name": "Python 3 (ipykernel)",
   "language": "python",
   "name": "python3"
  },
  "language_info": {
   "codemirror_mode": {
    "name": "ipython",
    "version": 3
   },
   "file_extension": ".py",
   "mimetype": "text/x-python",
   "name": "python",
   "nbconvert_exporter": "python",
   "pygments_lexer": "ipython3",
   "version": "3.8.10"
  }
 },
 "nbformat": 4,
 "nbformat_minor": 1
}