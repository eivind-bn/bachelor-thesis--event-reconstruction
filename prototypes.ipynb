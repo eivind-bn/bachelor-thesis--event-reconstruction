{
 "cells": [
  {
   "cell_type": "code",
   "execution_count": null,
   "metadata": {
    "pycharm": {
     "name": "#%%\n"
    }
   },
   "outputs": [],
   "source": [
    "# Get public modules from pip\n",
    "!pip install -r requirements.txt\n",
    "\n",
    "# Python util\n",
    "import sys\n",
    "import os\n",
    "\n",
    "# Project util\n",
    "from core.event_integrator import EventIntegratorAlgorithm\n",
    "from core.interactive_window import InteractiveWindow"
   ]
  },
  {
   "cell_type": "code",
   "execution_count": 5,
   "metadata": {
    "pycharm": {
     "name": "#%%\n"
    }
   },
   "outputs": [],
   "source": []
  },
  {
   "cell_type": "code",
   "execution_count": 16,
   "metadata": {
    "pycharm": {
     "name": "#%%\n"
    }
   },
   "outputs": [
    {
     "name": "stdout",
     "output_type": "stream",
     "text": [
      "frame: 3199/3200\r"
     ]
    }
   ],
   "source": [
    "mp4_input_filepath = 'samples/mp4/predator-sample.mp4'\n",
    "dat_output_filepath = 'samples/event-deconstruction/predator-sample.dat'\n",
    "event_mode = 'sliding'\n",
    "event_threshold = '0.07'\n",
    "\n",
    "%run core\\\\mp4_to_dat.py \\\n",
    "    -i $mp4_input_filepath \\\n",
    "    -o $dat_output_filepath \\\n",
    "    -em $event_mode \\\n",
    "    -et $event_threshold"
   ]
  },
  {
   "cell_type": "code",
   "execution_count": 8,
   "metadata": {
    "pycharm": {
     "name": "#%%\n"
    }
   },
   "outputs": [
    {
     "data": {
      "text/plain": "<core.interactive_window.InteractiveWindow at 0x1e003384820>"
     },
     "execution_count": 8,
     "metadata": {},
     "output_type": "execute_result"
    }
   ],
   "source": [
    "from core.event_integrator import EventIntegratorAlgorithm\n",
    "from core.interactive_window import InteractiveWindow\n",
    "\n",
    "InteractiveWindow(title='Event reconstruction',\n",
    "                  source='samples\\\\event-deconstruction\\\\predator-sample.dat',\n",
    "                  algorithm_type=EventIntegratorAlgorithm,\n",
    "                  sigma=0.3,\n",
    "                  colorspace=225,\n",
    "                  colorspace_offset=0,\n",
    "                  intensity_decay=0.05,\n",
    "                  delta_t=10000\n",
    "                  )"
   ]
  },
  {
   "cell_type": "code",
   "execution_count": 3,
   "metadata": {
    "pycharm": {
     "name": "#%%\n"
    }
   },
   "outputs": [
    {
     "data": {
      "text/plain": "<core.interactive_window.InteractiveWindow at 0x1f822b828e0>"
     },
     "execution_count": 3,
     "metadata": {},
     "output_type": "execute_result"
    }
   ],
   "source": [
    "from core.event_renderer import PeriodicFrameGenWrapper\n",
    "from core.interactive_window import InteractiveWindow\n",
    "\n",
    "InteractiveWindow(title='Periodic Frame Generation',\n",
    "                  source='samples\\\\event-deconstruction\\\\predator-sample.dat',\n",
    "                  algorithm_type=PeriodicFrameGenWrapper,\n",
    "                  fps=60.0,\n",
    "                  delta_t=1e6\n",
    "                  )"
   ]
  },
  {
   "cell_type": "code",
   "execution_count": 2,
   "metadata": {
    "pycharm": {
     "name": "#%%\n"
    }
   },
   "outputs": [],
   "source": []
  },
  {
   "cell_type": "code",
   "execution_count": null,
   "metadata": {
    "pycharm": {
     "name": "#%%\n"
    }
   },
   "outputs": [],
   "source": []
  }
 ],
 "metadata": {
  "kernelspec": {
   "display_name": "Python 3 (ipykernel)",
   "language": "python",
   "name": "python3"
  },
  "language_info": {
   "codemirror_mode": {
    "name": "ipython",
    "version": 3
   },
   "file_extension": ".py",
   "mimetype": "text/x-python",
   "name": "python",
   "nbconvert_exporter": "python",
   "pygments_lexer": "ipython3",
   "version": "3.8.10"
  }
 },
 "nbformat": 4,
 "nbformat_minor": 1
}