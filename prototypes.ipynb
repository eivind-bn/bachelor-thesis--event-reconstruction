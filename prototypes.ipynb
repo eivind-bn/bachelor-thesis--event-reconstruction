{
 "cells": [
  {
   "cell_type": "code",
   "execution_count": null,
   "metadata": {
    "pycharm": {
     "is_executing": true,
     "name": "#%%\n"
    }
   },
   "outputs": [
    {
     "name": "stdout",
     "output_type": "stream",
     "text": [
      "Downloading file https://dataset.prophesee.ai/index.php/s/nVcLLdWAnNzrmII/download -> samples\\driving_sample.raw\n",
      "...100%, 350 MB, 12234 KB/s, 29 seconds passedDownloading file https://dataset.prophesee.ai/index.php/s/fB7xvMpE136yakl/download -> samples\\pedestrians.raw\n",
      "...99%, 176 MB, 9936 KB/s, 18 seconds passeddDownloading file https://dataset.prophesee.ai/index.php/s/Gk6SbZNX3fHZnLw/download -> samples\\blinking_leds_td.dat\n",
      "...100%, 56 MB, 10204 KB/s, 5 seconds passedDownloading file https://dataset.prophesee.ai/index.php/s/Rp7ngsn7iDlNAxP/download -> samples\\calib_propheshield_parking.10_sec.raw\n",
      "...99%, 28 MB, 10745 KB/s, 2 seconds passedDownloading file https://dataset.prophesee.ai/index.php/s/2j8xCyufDLhi7sd/download -> samples\\80_balls.raw\n",
      "...99%, 18 MB, 10057 KB/s, 1 seconds passedDownloading file https://dataset.prophesee.ai/index.php/s/kSfKSZfCLKPIblT/download -> samples\\195_falling_particles.raw\n",
      "...99%, 77 MB, 9259 KB/s, 8 seconds passeddDownloading file https://dataset.prophesee.ai/index.php/s/bX0CnMiQ2XVGGjv/download -> samples\\laser.raw \n",
      "...99%, 325 MB, 12210 KB/s, 27 seconds passedDownloading file https://dataset.prophesee.ai/index.php/s/YAri3vpPZHhEZfc/download -> samples\\spinner.dat\n",
      "...99%, 413 MB, 11725 KB/s, 36 seconds passedDownloading file https://dataset.prophesee.ai/index.php/s/mwiILym2zD8ud2b/download -> samples\\spinner.raw\n",
      "...99%, 207 MB, 8776 KB/s, 24 seconds passeddDownloading file https://dataset.prophesee.ai/index.php/s/nOcN4Fzlv5qCAxt/download -> samples\\hand_spinner.raw\n",
      "...99%, 46 MB, 11007 KB/s, 4 seconds passedDownloading file https://dataset.prophesee.ai/index.php/s/GxgIdzXvdU0f1Xo/download -> samples\\traffic_monitoring.raw\n",
      "...99%, 70 MB, 11810 KB/s, 6 seconds passedDownloading file https://dataset.prophesee.ai/index.php/s/LCheVtNeIoJptHF/download -> samples\\200_jets.raw\n",
      "...98%, 2 MB, 5349 KB/s, 0 seconds passedDownloading file https://dataset.prophesee.ai/index.php/s/95dTpv4ZJ60jyI5/download -> samples\\sparklers.raw\n",
      "...97%, 1 MB, 4070 KB/s, 0 seconds passedDownloading file https://dataset.prophesee.ai/index.php/s/s5DFqzVQhlaU8Y5/download -> samples\\monitoring_40_50hz.raw\n",
      "...99%, 156 MB, 6981 KB/s, 22 seconds passeddDownloading file https://dataset.prophesee.ai/index.php/s/tI3smokMz0xVX6R/download -> samples\\day_200618_170002_0_20.raw\n",
      "...99%, 66 MB, 11787 KB/s, 5 seconds passedDownloading file https://dataset.prophesee.ai/index.php/s/j9VHorWyLOkbVnG/download -> samples\\day_200618_mask.png\n",
      "Downloading file https://dataset.prophesee.ai/index.php/s/jKHZ4zRHIllSLE1/download -> samples\\MNIST.zip\n",
      "...99%, 32 MB, 10598 KB/s, 3 seconds passedDownloading file https://dataset.prophesee.ai/index.php/s/ScqMu02G5pdYKPh/download -> samples\\mini-dataset\n",
      "...-2082603008000%, 19861 MB, 11877 KB/s, 1712 seconds passed"
     ]
    }
   ],
   "source": [
    "import metavision_core.utils.samples as samples\n",
    "\n",
    "samples.get_all_samples('samples\\\\')"
   ]
  },
  {
   "cell_type": "code",
   "execution_count": null,
   "metadata": {
    "pycharm": {
     "name": "#%%\n"
    }
   },
   "outputs": [],
   "source": []
  }
 ],
 "metadata": {
  "kernelspec": {
   "display_name": "Python 3 (ipykernel)",
   "language": "python",
   "name": "python3"
  },
  "language_info": {
   "codemirror_mode": {
    "name": "ipython",
    "version": 3
   },
   "file_extension": ".py",
   "mimetype": "text/x-python",
   "name": "python",
   "nbconvert_exporter": "python",
   "pygments_lexer": "ipython3",
   "version": "3.7.9"
  }
 },
 "nbformat": 4,
 "nbformat_minor": 1
}