{
 "cells": [
  {
   "cell_type": "code",
   "execution_count": null,
   "metadata": {
    "pycharm": {
     "name": "#%%\n"
    }
   },
   "outputs": [],
   "source": [
    "# Get public modules from pip\n",
    "!pip install -r requirements.txt\n",
    "\n",
    "# Python util\n",
    "import sys\n",
    "import os\n",
    "\n",
    "# Project util\n"
   ]
  },
  {
   "cell_type": "code",
   "execution_count": 4,
   "metadata": {
    "pycharm": {
     "name": "#%%\n"
    }
   },
   "outputs": [],
   "source": [
    "import metavision_core.utils.samples as samples\n",
    "\n",
    "samples.get_all_samples('samples/events/')\n",
    "\n",
    "def event(filename, suffix='raw'):\n",
    "    return f'samples/events/{filename}.{suffix}'\n",
    "\n",
    "def mp4(filename):\n",
    "    return f'samples/mp4/{filename}.mp4'\n",
    "\n",
    "def recon(filename):\n",
    "    return f'samples/recon/{filename}.mp4'\n",
    "\n",
    "def decon(filename):\n",
    "    return f'samples/decon/{filename}.dat'"
   ]
  },
  {
   "cell_type": "code",
   "execution_count": 24,
   "metadata": {
    "pycharm": {
     "name": "#%%\n"
    }
   },
   "outputs": [
    {
     "name": "stdout",
     "output_type": "stream",
     "text": [
      "frame: 311/3200\r"
     ]
    },
    {
     "ename": "KeyboardInterrupt",
     "evalue": "",
     "output_type": "error",
     "traceback": [
      "\u001B[1;31m---------------------------------------------------------------------------\u001B[0m",
      "\u001B[1;31mKeyboardInterrupt\u001B[0m                         Traceback (most recent call last)",
      "File \u001B[1;32m~\\PycharmProjects\\idatt2900-event-reconstruction\\core\\mp4_to_dat.py:214\u001B[0m, in \u001B[0;36m<module>\u001B[1;34m\u001B[0m\n\u001B[0;32m    210\u001B[0m         mk_sliding_threshold_events(input_path, output_path, threshold)\n\u001B[0;32m    213\u001B[0m \u001B[38;5;28;01mif\u001B[39;00m \u001B[38;5;18m__name__\u001B[39m \u001B[38;5;241m==\u001B[39m \u001B[38;5;124m\"\u001B[39m\u001B[38;5;124m__main__\u001B[39m\u001B[38;5;124m\"\u001B[39m:\n\u001B[1;32m--> 214\u001B[0m     \u001B[43mmain\u001B[49m\u001B[43m(\u001B[49m\u001B[43m)\u001B[49m\n",
      "File \u001B[1;32m~\\PycharmProjects\\idatt2900-event-reconstruction\\core\\mp4_to_dat.py:206\u001B[0m, in \u001B[0;36mmain\u001B[1;34m()\u001B[0m\n\u001B[0;32m    203\u001B[0m threshold \u001B[38;5;241m=\u001B[39m parser\u001B[38;5;241m.\u001B[39mthreshold\n\u001B[0;32m    205\u001B[0m \u001B[38;5;28;01mif\u001B[39;00m event_mode \u001B[38;5;241m==\u001B[39m \u001B[38;5;124m'\u001B[39m\u001B[38;5;124msingular\u001B[39m\u001B[38;5;124m'\u001B[39m:\n\u001B[1;32m--> 206\u001B[0m     \u001B[43mmk_singular_events\u001B[49m\u001B[43m(\u001B[49m\u001B[43minput_path\u001B[49m\u001B[43m,\u001B[49m\u001B[43m \u001B[49m\u001B[43moutput_path\u001B[49m\u001B[43m,\u001B[49m\u001B[43m \u001B[49m\u001B[43mthreshold\u001B[49m\u001B[43m)\u001B[49m\n\u001B[0;32m    207\u001B[0m \u001B[38;5;28;01melif\u001B[39;00m event_mode \u001B[38;5;241m==\u001B[39m \u001B[38;5;124m'\u001B[39m\u001B[38;5;124mstacking\u001B[39m\u001B[38;5;124m'\u001B[39m:\n\u001B[0;32m    208\u001B[0m     mk_stacking_events(input_path, output_path, threshold)\n",
      "File \u001B[1;32m~\\PycharmProjects\\idatt2900-event-reconstruction\\core\\mp4_to_dat.py:127\u001B[0m, in \u001B[0;36mmk_singular_events\u001B[1;34m(mp4_path, dat_path, threshold)\u001B[0m\n\u001B[0;32m    123\u001B[0m time_a, time_b \u001B[38;5;241m=\u001B[39m timestamps[i:i \u001B[38;5;241m+\u001B[39m \u001B[38;5;241m2\u001B[39m]\n\u001B[0;32m    125\u001B[0m \u001B[38;5;28mprint\u001B[39m(\u001B[38;5;124mf\u001B[39m\u001B[38;5;124m'\u001B[39m\u001B[38;5;124mframe: \u001B[39m\u001B[38;5;132;01m{\u001B[39;00mi\u001B[38;5;132;01m}\u001B[39;00m\u001B[38;5;124m/\u001B[39m\u001B[38;5;132;01m{\u001B[39;00mframe_cnt\u001B[38;5;132;01m}\u001B[39;00m\u001B[38;5;124m'\u001B[39m, end\u001B[38;5;241m=\u001B[39m\u001B[38;5;124m'\u001B[39m\u001B[38;5;130;01m\\r\u001B[39;00m\u001B[38;5;124m'\u001B[39m)\n\u001B[1;32m--> 127\u001B[0m new_levels \u001B[38;5;241m=\u001B[39m (\u001B[43mnp\u001B[49m\u001B[38;5;241;43m.\u001B[39;49m\u001B[43mmean\u001B[49m\u001B[43m(\u001B[49m\u001B[43mframe\u001B[49m\u001B[43m \u001B[49m\u001B[38;5;241;43m/\u001B[39;49m\u001B[43m \u001B[49m\u001B[38;5;241;43m255\u001B[39;49m\u001B[43m,\u001B[49m\u001B[43m \u001B[49m\u001B[43maxis\u001B[49m\u001B[38;5;241;43m=\u001B[39;49m\u001B[38;5;241;43m2\u001B[39;49m\u001B[43m)\u001B[49m\u001B[43m \u001B[49m\u001B[38;5;241;43m/\u001B[39;49m\u001B[38;5;241;43m/\u001B[39;49m\u001B[43m \u001B[49m\u001B[43mthreshold\u001B[49m)\u001B[38;5;241m.\u001B[39mastype(np\u001B[38;5;241m.\u001B[39mint64)\n\u001B[0;32m    129\u001B[0m pos_cord \u001B[38;5;241m=\u001B[39m np\u001B[38;5;241m.\u001B[39margwhere(new_levels \u001B[38;5;241m>\u001B[39m old_levels)\n\u001B[0;32m    130\u001B[0m dec_cord \u001B[38;5;241m=\u001B[39m np\u001B[38;5;241m.\u001B[39margwhere(new_levels \u001B[38;5;241m<\u001B[39m old_levels)\n",
      "\u001B[1;31mKeyboardInterrupt\u001B[0m: "
     ]
    }
   ],
   "source": [
    "mp4_input_path = mp4('arnold-arm-wrestle')\n",
    "event_mode = 'singular'\n",
    "event_threshold = 0.01\n",
    "\n",
    "%run core/mp4_to_dat.py -i $mp4_input_path -em $event_mode -et $event_threshold"
   ]
  },
  {
   "cell_type": "code",
   "execution_count": 30,
   "metadata": {
    "pycharm": {
     "name": "#%%\n"
    }
   },
   "outputs": [
    {
     "data": {
      "text/plain": "<core.interactive_window.InteractiveWindow at 0x1163dbb19a0>"
     },
     "execution_count": 30,
     "metadata": {},
     "output_type": "execute_result"
    }
   ],
   "source": [
    "from core.event_reconstruction import EventIntegratorAlgorithm\n",
    "from core.interactive_window import InteractiveWindow\n",
    "\n",
    "InteractiveWindow(title='Event reconstruction',\n",
    "                  source=decon('formula1'),\n",
    "                  algorithm_type=EventIntegratorAlgorithm,\n",
    "                  gaussian_filter_sigma=0.3,\n",
    "                  colorspace=225,\n",
    "                  colorspace_offset=0,\n",
    "                  intensity_decay=0.01,\n",
    "                  intensity_impedance=1.0,\n",
    "                  delta_t=1e5\n",
    "                  )"
   ]
  },
  {
   "cell_type": "code",
   "execution_count": 28,
   "metadata": {
    "pycharm": {
     "name": "#%%\n"
    }
   },
   "outputs": [
    {
     "data": {
      "text/plain": "<core.interactive_window.InteractiveWindow at 0x1163dbe9a30>"
     },
     "execution_count": 28,
     "metadata": {},
     "output_type": "execute_result"
    }
   ],
   "source": [
    "from core.sequential_frame_gen import SequentialFrameGenerator\n",
    "from core.interactive_window import InteractiveWindow\n",
    "\n",
    "InteractiveWindow(title='Periodic Frame Generation',\n",
    "                  source=decon('arnold-arm-wrestle'),\n",
    "                  algorithm_type=SequentialFrameGenerator,\n",
    "                  fps=24.0,\n",
    "                  delta_t=1e6\n",
    "                  )"
   ]
  },
  {
   "cell_type": "code",
   "execution_count": 2,
   "metadata": {
    "pycharm": {
     "name": "#%%\n"
    }
   },
   "outputs": [],
   "source": []
  },
  {
   "cell_type": "code",
   "execution_count": 2,
   "outputs": [],
   "source": [
    "from core.sink.interactive_window import InteractiveWindow\n",
    "from core.source.events import EventStream\n",
    "\n",
    "EventStream('samples/events/driving_sample.raw').on_data_processed(InteractiveWindow(640, 480, 'foo'))"
   ],
   "metadata": {
    "collapsed": false,
    "pycharm": {
     "name": "#%%\n"
    }
   }
  },
  {
   "cell_type": "code",
   "execution_count": 3,
   "outputs": [],
   "source": [
    "import numpy as np\n",
    "import cv2\n",
    "\n",
    "cv2.namedWindow('image', cv2.WINDOW_NORMAL)\n",
    "cv2.imshow('image',np.array([[[255,255,255]]], dtype=np.ubyte))\n",
    "# cv2.waitKey(0)\n",
    "cv2.destroyAllWindows()"
   ],
   "metadata": {
    "collapsed": false,
    "pycharm": {
     "name": "#%%\n"
    }
   }
  },
  {
   "cell_type": "code",
   "execution_count": 1,
   "outputs": [
    {
     "name": "stdout",
     "output_type": "stream",
     "text": [
      "2\n",
      "1\n"
     ]
    },
    {
     "data": {
      "text/plain": "'close'"
     },
     "execution_count": 1,
     "metadata": {},
     "output_type": "execute_result"
    }
   ],
   "source": [
    "from core.event.broadcaster import Broadcaster\n",
    "\n",
    "b = Broadcaster()\n",
    "b.subscribe('foo', lambda y, **_: print(1))\n",
    "# b.notify('foo', a='a', y='y')\n",
    "\n",
    "c = Broadcaster()\n",
    "c.subscribe('foo', lambda y, **_: print(2))\n",
    "c.join(b)\n",
    "c.join(b)\n",
    "b.join(c)\n",
    "\n",
    "c.notify('foo', a='a', y='y')\n"
   ],
   "metadata": {
    "collapsed": false,
    "pycharm": {
     "name": "#%%\n"
    }
   }
  },
  {
   "cell_type": "code",
   "execution_count": null,
   "outputs": [],
   "source": [],
   "metadata": {
    "collapsed": false,
    "pycharm": {
     "name": "#%%\n"
    }
   }
  }
 ],
 "metadata": {
  "kernelspec": {
   "display_name": "Python 3 (ipykernel)",
   "language": "python",
   "name": "python3"
  },
  "language_info": {
   "codemirror_mode": {
    "name": "ipython",
    "version": 3
   },
   "file_extension": ".py",
   "mimetype": "text/x-python",
   "name": "python",
   "nbconvert_exporter": "python",
   "pygments_lexer": "ipython3",
   "version": "3.8.10"
  }
 },
 "nbformat": 4,
 "nbformat_minor": 1
}